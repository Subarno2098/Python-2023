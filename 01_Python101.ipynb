{
 "cells": [
  {
   "cell_type": "code",
   "execution_count": null,
   "metadata": {},
   "outputs": [],
   "source": [
    "from IPython.core.interactiveshell import InteractiveShell\n",
    "InteractiveShell.ast_node_interactivity = \"all\"\n"
   ]
  },
  {
   "attachments": {},
   "cell_type": "markdown",
   "metadata": {},
   "source": [
    "### First code in Python"
   ]
  },
  {
   "attachments": {},
   "cell_type": "markdown",
   "metadata": {
    "slideshow": {
     "slide_type": "slide"
    }
   },
   "source": [
    "#### Running (executing) a cell\n",
    "\n",
    "Jupyter Notebooks allow code to be separated into sections that can be executed independent of one another. These sections are called \"cells\".\n",
    "\n",
    "Running a cell means that you will execute the cell’s contents. To execute a cell, you can just select the cell and click the Run button that is in the row of buttons along the top. It’s towards the middle. If you prefer using your keyboard, you can just press SHIFT + ENTER\n",
    "\n",
    "To automatically run all cells in a notebook, navigate to the \"Run\" tab of the menu bar at the top of JupyterLab and select \"Run All Cells\" (or the option that best suits your needs). When a cell is run, the cell's content is executed. Any output produced from running the cell will appear directly below it."
   ]
  },
  {
   "cell_type": "code",
   "execution_count": null,
   "metadata": {
    "slideshow": {
     "slide_type": "slide"
    }
   },
   "outputs": [
    {
     "name": "stdout",
     "output_type": "stream",
     "text": [
      "Hello World\n"
     ]
    }
   ],
   "source": [
    "print('Hello World')\n",
    "# To check if its being committed or not "
   ]
  },
  {
   "attachments": {},
   "cell_type": "markdown",
   "metadata": {
    "slideshow": {
     "slide_type": "fragment"
    },
    "tags": []
   },
   "source": [
    "#### Cell status\n",
    "\n",
    "The [ ]: symbol to the left of each Code cell describes the state of the cell:\n",
    "\n",
    "    [ ]: means that the cell has not been run yet.\n",
    "    [*]: means that the cell is currently running.\n",
    "    [1]: means that the cell has finished running and was the first cell run.\n",
    "    \n",
    "For more information on jupyter notebooks have a look at the [jupyter_introduction.ipynb](../How_To/01_jupyter_introduction.ipynb) notebook in the How_To section"
   ]
  },
  {
   "attachments": {},
   "cell_type": "markdown",
   "metadata": {
    "slideshow": {
     "slide_type": "slide"
    },
    "tags": []
   },
   "source": [
    "### Mathematical Operations\n",
    "\n",
    "Now we can try some basic mathematical operations"
   ]
  },
  {
   "cell_type": "code",
   "execution_count": null,
   "metadata": {
    "slideshow": {
     "slide_type": "fragment"
    },
    "tags": []
   },
   "outputs": [
    {
     "data": {
      "text/plain": [
       "246"
      ]
     },
     "execution_count": 17,
     "metadata": {},
     "output_type": "execute_result"
    }
   ],
   "source": [
    "243 + 3"
   ]
  },
  {
   "cell_type": "code",
   "execution_count": null,
   "metadata": {
    "slideshow": {
     "slide_type": "fragment"
    }
   },
   "outputs": [
    {
     "data": {
      "text/plain": [
       "4422"
      ]
     },
     "execution_count": 18,
     "metadata": {},
     "output_type": "execute_result"
    }
   ],
   "source": [
    "4454 - 32"
   ]
  },
  {
   "cell_type": "code",
   "execution_count": null,
   "metadata": {
    "slideshow": {
     "slide_type": "fragment"
    }
   },
   "outputs": [
    {
     "data": {
      "text/plain": [
       "111.0"
      ]
     },
     "execution_count": 19,
     "metadata": {},
     "output_type": "execute_result"
    }
   ],
   "source": [
    "222 / 2 "
   ]
  },
  {
   "attachments": {},
   "cell_type": "markdown",
   "metadata": {},
   "source": [
    "### Variable Assignment\n",
    "\n",
    "In python the '=' is used to assign a value to a variable. Besides a single equal sign you can also use combinations with other operators."
   ]
  },
  {
   "cell_type": "code",
   "execution_count": null,
   "metadata": {},
   "outputs": [
    {
     "data": {
      "text/plain": [
       "5"
      ]
     },
     "execution_count": 20,
     "metadata": {},
     "output_type": "execute_result"
    }
   ],
   "source": [
    "x = 5 \n",
    "x"
   ]
  },
  {
   "attachments": {},
   "cell_type": "markdown",
   "metadata": {
    "slideshow": {
     "slide_type": "fragment"
    }
   },
   "source": [
    "### Functions\n",
    "\n",
    "Functions are named pieces of code, to perform a particular job. Functions in Python are excuted by specifying their name, followed by parentheses.\n"
   ]
  },
  {
   "cell_type": "code",
   "execution_count": null,
   "metadata": {},
   "outputs": [
    {
     "data": {
      "text/plain": [
       "7"
      ]
     },
     "execution_count": 21,
     "metadata": {},
     "output_type": "execute_result"
    }
   ],
   "source": [
    "abs(-7)"
   ]
  },
  {
   "attachments": {},
   "cell_type": "markdown",
   "metadata": {},
   "source": [
    "### Data types\n",
    "\n",
    "|Type | Meaning | Mutability | Examples |\n",
    "|-----|---------|------------|----------|\n",
    "| int | Integer | immutable | 1, -10, 0 |\n",
    "| float | Float | immutable | 3.2, 100.0, -9.9 |\n",
    "| bool | Boolean | immutable | True, False |\n",
    "| str | String | immutable | \"Hello!\", \"a\", \"I like Python\" |\n",
    "| list | List | mutable | [1,2,3] |\n",
    "| tuple | Tuple | immutable | (1, 2) |\n",
    "| dict | Dictionary | mutable | {\"a\": 2} |\n",
    "| set | Set | mutable | {\"a\", \"b\"} |\n",
    "\n",
    "These classes are the basic building blocks of Python. Later on, we are going to learn about other, more complex, classes, defined in third-party packages"
   ]
  },
  {
   "cell_type": "code",
   "execution_count": null,
   "metadata": {
    "slideshow": {
     "slide_type": "fragment"
    }
   },
   "outputs": [],
   "source": [
    "city = 'Würzburg'\n",
    "longitude = 49\n",
    "latitude = 9.95121\n",
    "boolean = longitude > latitude\n",
    "mylist = ['rainy', 'sunny', 'cloudy']\n",
    "mytuple = ('rainy', 'sunny', 'cloudy')\n",
    "mydict = {'rainy': 1, 'sunny': 2, 'cloudy': 3}\n"
   ]
  },
  {
   "cell_type": "code",
   "execution_count": null,
   "metadata": {},
   "outputs": [
    {
     "name": "stdout",
     "output_type": "stream",
     "text": [
      "<class 'str'>\n",
      "<class 'int'>\n",
      "<class 'float'>\n",
      "<class 'bool'>\n",
      "<class 'list'>\n",
      "<class 'tuple'>\n",
      "<class 'dict'>\n"
     ]
    }
   ],
   "source": [
    "# Using a For loop for extracting the type of the data types\n",
    "l1 = [city, longitude, latitude, boolean, mylist, mytuple, mydict]\n",
    "for i in l1:\n",
    "    print(type(i))"
   ]
  },
  {
   "attachments": {},
   "cell_type": "markdown",
   "metadata": {
    "slideshow": {
     "slide_type": "slide"
    }
   },
   "source": [
    "### Python libraries\n",
    "\n",
    "One of the main advantages in python is the extensive standard library (already included in python) and the huge number of third party libraries.\n",
    "In order to use these libraries you have to import them. Therefor you just need the 'import' command.\n"
   ]
  },
  {
   "cell_type": "code",
   "execution_count": null,
   "metadata": {
    "tags": []
   },
   "outputs": [],
   "source": []
  },
  {
   "cell_type": "code",
   "execution_count": null,
   "metadata": {
    "slideshow": {
     "slide_type": "fragment"
    }
   },
   "outputs": [
    {
     "data": {
      "text/plain": [
       "5"
      ]
     },
     "execution_count": 24,
     "metadata": {},
     "output_type": "execute_result"
    }
   ],
   "source": [
    "import math\n",
    "\n",
    "math.ceil(4.59)"
   ]
  },
  {
   "attachments": {},
   "cell_type": "markdown",
   "metadata": {
    "slideshow": {
     "slide_type": "slide"
    }
   },
   "source": [
    "When using the import command, python only loads the name of this module (e.g. math) and not the names of the single functions. <br>\n",
    "If you want to use individual classes or functions within the module you have to enter the name of the module and the name of the function separated by a dot:"
   ]
  },
  {
   "cell_type": "code",
   "execution_count": null,
   "metadata": {
    "slideshow": {
     "slide_type": "fragment"
    }
   },
   "outputs": [
    {
     "data": {
      "text/plain": [
       "2"
      ]
     },
     "execution_count": 25,
     "metadata": {},
     "output_type": "execute_result"
    }
   ],
   "source": [
    "import math\n",
    "math.ceil(1.34) # math = module name , ceil = function name"
   ]
  },
  {
   "attachments": {},
   "cell_type": "markdown",
   "metadata": {
    "slideshow": {
     "slide_type": "slide"
    }
   },
   "source": [
    "You can also assign a function to variable to a variable name"
   ]
  },
  {
   "cell_type": "code",
   "execution_count": null,
   "metadata": {
    "slideshow": {
     "slide_type": "fragment"
    }
   },
   "outputs": [
    {
     "data": {
      "text/plain": [
       "2"
      ]
     },
     "execution_count": 26,
     "metadata": {},
     "output_type": "execute_result"
    }
   ],
   "source": [
    "import math\n",
    "ceil = math.ceil\n",
    "ceil(1.34)"
   ]
  },
  {
   "attachments": {},
   "cell_type": "markdown",
   "metadata": {
    "slideshow": {
     "slide_type": "slide"
    }
   },
   "source": [
    "If you want to load only one or more specific function you can use the term from ... import ..."
   ]
  },
  {
   "cell_type": "code",
   "execution_count": null,
   "metadata": {
    "slideshow": {
     "slide_type": "fragment"
    }
   },
   "outputs": [],
   "source": [
    "from math import ceil\n",
    "from math import ceil, fabs, trunc\n",
    "from math import *      # import all functions of the module"
   ]
  },
  {
   "attachments": {},
   "cell_type": "markdown",
   "metadata": {
    "slideshow": {
     "slide_type": "subslide"
    }
   },
   "source": [
    "You can also assign a new name to the a module or function while importing"
   ]
  },
  {
   "cell_type": "code",
   "execution_count": null,
   "metadata": {
    "slideshow": {
     "slide_type": "fragment"
    }
   },
   "outputs": [
    {
     "name": "stdout",
     "output_type": "stream",
     "text": [
      "2\n",
      "2\n"
     ]
    }
   ],
   "source": [
    "import math as m\n",
    "\n",
    "print(m.ceil(1.34))\n",
    "\n",
    "from math import ceil as c\n",
    "\n",
    "print(c(1.34))"
   ]
  },
  {
   "attachments": {},
   "cell_type": "markdown",
   "metadata": {},
   "source": [
    "### Installing libraries"
   ]
  },
  {
   "attachments": {},
   "cell_type": "markdown",
   "metadata": {
    "slideshow": {
     "slide_type": "slide"
    }
   },
   "source": [
    "If you want to install a external library you can do this via pip or conda"
   ]
  },
  {
   "cell_type": "code",
   "execution_count": null,
   "metadata": {
    "slideshow": {
     "slide_type": "fragment"
    }
   },
   "outputs": [
    {
     "name": "stderr",
     "output_type": "stream",
     "text": [
      "'ls' is not recognized as an internal or external command,\n",
      "operable program or batch file.\n"
     ]
    }
   ],
   "source": [
    "!ls"
   ]
  },
  {
   "cell_type": "code",
   "execution_count": 30,
   "metadata": {
    "slideshow": {
     "slide_type": "fragment"
    }
   },
   "outputs": [
    {
     "name": "stdout",
     "output_type": "stream",
     "text": [
      "Requirement already satisfied: geopandas in c:\\users\\subarno shankar\\appdata\\local\\packages\\pythonsoftwarefoundation.python.3.11_qbz5n2kfra8p0\\localcache\\local-packages\\python311\\site-packages (0.12.2)\n",
      "Requirement already satisfied: pandas>=1.0.0 in c:\\users\\subarno shankar\\appdata\\local\\packages\\pythonsoftwarefoundation.python.3.11_qbz5n2kfra8p0\\localcache\\local-packages\\python311\\site-packages (from geopandas) (2.0.1)\n",
      "Requirement already satisfied: shapely>=1.7 in c:\\users\\subarno shankar\\appdata\\local\\packages\\pythonsoftwarefoundation.python.3.11_qbz5n2kfra8p0\\localcache\\local-packages\\python311\\site-packages (from geopandas) (2.0.1)\n",
      "Requirement already satisfied: fiona>=1.8 in c:\\users\\subarno shankar\\appdata\\local\\packages\\pythonsoftwarefoundation.python.3.11_qbz5n2kfra8p0\\localcache\\local-packages\\python311\\site-packages (from geopandas) (1.9.3)\n",
      "Requirement already satisfied: pyproj>=2.6.1.post1 in c:\\users\\subarno shankar\\appdata\\local\\packages\\pythonsoftwarefoundation.python.3.11_qbz5n2kfra8p0\\localcache\\local-packages\\python311\\site-packages (from geopandas) (3.5.0)\n",
      "Requirement already satisfied: packaging in c:\\users\\subarno shankar\\appdata\\local\\packages\\pythonsoftwarefoundation.python.3.11_qbz5n2kfra8p0\\localcache\\local-packages\\python311\\site-packages (from geopandas) (23.1)\n",
      "Requirement already satisfied: attrs>=19.2.0 in c:\\users\\subarno shankar\\appdata\\local\\packages\\pythonsoftwarefoundation.python.3.11_qbz5n2kfra8p0\\localcache\\local-packages\\python311\\site-packages (from fiona>=1.8->geopandas) (23.1.0)\n",
      "Requirement already satisfied: certifi in c:\\users\\subarno shankar\\appdata\\local\\packages\\pythonsoftwarefoundation.python.3.11_qbz5n2kfra8p0\\localcache\\local-packages\\python311\\site-packages (from fiona>=1.8->geopandas) (2022.12.7)\n",
      "Requirement already satisfied: click~=8.0 in c:\\users\\subarno shankar\\appdata\\local\\packages\\pythonsoftwarefoundation.python.3.11_qbz5n2kfra8p0\\localcache\\local-packages\\python311\\site-packages (from fiona>=1.8->geopandas) (8.1.3)\n",
      "Requirement already satisfied: click-plugins>=1.0 in c:\\users\\subarno shankar\\appdata\\local\\packages\\pythonsoftwarefoundation.python.3.11_qbz5n2kfra8p0\\localcache\\local-packages\\python311\\site-packages (from fiona>=1.8->geopandas) (1.1.1)\n",
      "Requirement already satisfied: cligj>=0.5 in c:\\users\\subarno shankar\\appdata\\local\\packages\\pythonsoftwarefoundation.python.3.11_qbz5n2kfra8p0\\localcache\\local-packages\\python311\\site-packages (from fiona>=1.8->geopandas) (0.7.2)\n",
      "Requirement already satisfied: munch>=2.3.2 in c:\\users\\subarno shankar\\appdata\\local\\packages\\pythonsoftwarefoundation.python.3.11_qbz5n2kfra8p0\\localcache\\local-packages\\python311\\site-packages (from fiona>=1.8->geopandas) (2.5.0)\n",
      "Requirement already satisfied: python-dateutil>=2.8.2 in c:\\users\\subarno shankar\\appdata\\local\\packages\\pythonsoftwarefoundation.python.3.11_qbz5n2kfra8p0\\localcache\\local-packages\\python311\\site-packages (from pandas>=1.0.0->geopandas) (2.8.2)\n",
      "Requirement already satisfied: pytz>=2020.1 in c:\\users\\subarno shankar\\appdata\\local\\packages\\pythonsoftwarefoundation.python.3.11_qbz5n2kfra8p0\\localcache\\local-packages\\python311\\site-packages (from pandas>=1.0.0->geopandas) (2023.3)\n",
      "Requirement already satisfied: tzdata>=2022.1 in c:\\users\\subarno shankar\\appdata\\local\\packages\\pythonsoftwarefoundation.python.3.11_qbz5n2kfra8p0\\localcache\\local-packages\\python311\\site-packages (from pandas>=1.0.0->geopandas) (2023.3)\n",
      "Requirement already satisfied: numpy>=1.21.0 in c:\\users\\subarno shankar\\appdata\\local\\packages\\pythonsoftwarefoundation.python.3.11_qbz5n2kfra8p0\\localcache\\local-packages\\python311\\site-packages (from pandas>=1.0.0->geopandas) (1.24.3)\n",
      "Requirement already satisfied: colorama in c:\\users\\subarno shankar\\appdata\\local\\packages\\pythonsoftwarefoundation.python.3.11_qbz5n2kfra8p0\\localcache\\local-packages\\python311\\site-packages (from click~=8.0->fiona>=1.8->geopandas) (0.4.6)\n",
      "Requirement already satisfied: six in c:\\users\\subarno shankar\\appdata\\local\\packages\\pythonsoftwarefoundation.python.3.11_qbz5n2kfra8p0\\localcache\\local-packages\\python311\\site-packages (from munch>=2.3.2->fiona>=1.8->geopandas) (1.16.0)\n",
      "Note: you may need to restart the kernel to use updated packages.\n"
     ]
    },
    {
     "name": "stderr",
     "output_type": "stream",
     "text": [
      "\n",
      "[notice] A new release of pip available: 22.3.1 -> 23.1.2\n",
      "[notice] To update, run: C:\\Users\\Subarno Shankar\\AppData\\Local\\Microsoft\\WindowsApps\\PythonSoftwareFoundation.Python.3.11_qbz5n2kfra8p0\\python.exe -m pip install --upgrade pip\n"
     ]
    }
   ],
   "source": [
    "%pip install geopandas"
   ]
  },
  {
   "attachments": {},
   "cell_type": "markdown",
   "metadata": {
    "slideshow": {
     "slide_type": "slide"
    }
   },
   "source": [
    "### Help \n",
    "\n",
    "If you want to know more about a function/library or what they are exactly doing you can use the 'help()' function."
   ]
  },
  {
   "cell_type": "code",
   "execution_count": 31,
   "metadata": {
    "slideshow": {
     "slide_type": "fragment"
    }
   },
   "outputs": [
    {
     "name": "stdout",
     "output_type": "stream",
     "text": [
      "Help on package geopandas:\n",
      "\n",
      "NAME\n",
      "    geopandas\n",
      "\n",
      "PACKAGE CONTENTS\n",
      "    _compat\n",
      "    _config\n",
      "    _decorator\n",
      "    _vectorized\n",
      "    _version\n",
      "    array\n",
      "    base\n",
      "    conftest\n",
      "    datasets (package)\n",
      "    explore\n",
      "    geodataframe\n",
      "    geoseries\n",
      "    io (package)\n",
      "    plotting\n",
      "    sindex\n",
      "    testing\n",
      "    tests (package)\n",
      "    tools (package)\n",
      "\n",
      "DATA\n",
      "    options = Options(\n",
      "      display_precision: None [default: Non...USE_PYGEO...\n",
      "\n",
      "VERSION\n",
      "    0.12.2\n",
      "\n",
      "FILE\n",
      "    c:\\users\\subarno shankar\\appdata\\local\\packages\\pythonsoftwarefoundation.python.3.11_qbz5n2kfra8p0\\localcache\\local-packages\\python311\\site-packages\\geopandas\\__init__.py\n",
      "\n",
      "\n"
     ]
    }
   ],
   "source": [
    "import geopandas as gpd\n",
    "help(gpd)"
   ]
  },
  {
   "cell_type": "code",
   "execution_count": 32,
   "metadata": {
    "slideshow": {
     "slide_type": "fragment"
    }
   },
   "outputs": [
    {
     "name": "stdout",
     "output_type": "stream",
     "text": [
      "Help on built-in function ceil in module math:\n",
      "\n",
      "ceil(x, /)\n",
      "    Return the ceiling of x as an Integral.\n",
      "    \n",
      "    This is the smallest integer >= x.\n",
      "\n"
     ]
    }
   ],
   "source": [
    "import geopandas as gpd\n",
    "help(math.ceil)"
   ]
  },
  {
   "attachments": {},
   "cell_type": "markdown",
   "metadata": {},
   "source": [
    "### Data types\n",
    "\n",
    "|Type | Meaning | Mutability | Examples |\n",
    "|-----|---------|------------|----------|\n",
    "| int | Integer | immutable | 1, -10, 0 |\n",
    "| float | Float | immutable | 3.2, 100.0, -9.9 |\n",
    "| bool | Boolean | immutable | True, False |\n",
    "| str | String | immutable | \"Hello!\", \"a\", \"I like Python\" |\n",
    "| list | List | mutable | [1,2,3] |\n",
    "| tuple | Tuple | immutable | (1, 2) |\n",
    "| dict | Dictionary | mutable | {\"a\": 2} |\n",
    "| set | Set | mutable | {\"a\", \"b\"} |\n",
    "\n",
    "These classes are the basic building blocks of Python. Later on, we are going to learn about other, more complex, classes, defined in third-party packages."
   ]
  },
  {
   "attachments": {},
   "cell_type": "markdown",
   "metadata": {
    "slideshow": {
     "slide_type": "slide"
    }
   },
   "source": [
    "### Numbers\n",
    "\n",
    "Python can handle several types of numbers, but the two most common are:\n",
    "\n",
    "- int, which represents integer values like 100, and\n",
    "- float, which represents numbers that have a fraction part, like 0.5"
   ]
  },
  {
   "cell_type": "code",
   "execution_count": 33,
   "metadata": {
    "slideshow": {
     "slide_type": "fragment"
    }
   },
   "outputs": [],
   "source": [
    "population = 127880\n",
    "latitude = 49.79391\n",
    "longitude = 9.95121"
   ]
  },
  {
   "cell_type": "code",
   "execution_count": 34,
   "metadata": {
    "slideshow": {
     "slide_type": "fragment"
    }
   },
   "outputs": [
    {
     "name": "stdout",
     "output_type": "stream",
     "text": [
      "<class 'int'>\n"
     ]
    }
   ],
   "source": [
    "print(type(population))"
   ]
  },
  {
   "cell_type": "code",
   "execution_count": 35,
   "metadata": {
    "slideshow": {
     "slide_type": "fragment"
    }
   },
   "outputs": [
    {
     "name": "stdout",
     "output_type": "stream",
     "text": [
      "<class 'float'>\n"
     ]
    }
   ],
   "source": [
    "print(type(latitude))"
   ]
  },
  {
   "cell_type": "code",
   "execution_count": 36,
   "metadata": {
    "slideshow": {
     "slide_type": "slide"
    }
   },
   "outputs": [
    {
     "data": {
      "text/plain": [
       "1459.3175853018374"
      ]
     },
     "execution_count": 36,
     "metadata": {},
     "output_type": "execute_result"
    }
   ],
   "source": [
    "area = 87.63\n",
    "density = population / area\n",
    "density"
   ]
  },
  {
   "attachments": {},
   "cell_type": "markdown",
   "metadata": {},
   "source": [
    "Below is a list of operations for these build-in numeric types:"
   ]
  },
  {
   "attachments": {},
   "cell_type": "markdown",
   "metadata": {},
   "source": [
    "| Operation      | Result      |\n",
    "|---------------|--------------|\n",
    "|x + y          |sum of x and y|\n",
    "|x - y          |difference of x and y| \n",
    "|x * y          |product of x and y|\n",
    "|x / y          |quotient of x and y|\n",
    "|x // y         |(floored) quotient of x and y           |\n",
    "|x % y          |remainder of x / y                      |\n",
    "|-x             |x negated                               |\n",
    "|+x             |x unchanged                             | \n",
    "|abs(x)         |absolute value or magnitude of x        |\n",
    "|int(x)         |x converted to integer                  |\n",
    "|long(x)        |x converted to long integer             |\n",
    "|float(x)       |x converted to floating point           |\n",
    "|complex(re,im) |a complex number with real part re,     |\n",
    "|               |imaginary part im (im defaults to zero) |\n",
    "|c.conjugate()  |conjugate of the complex number c       |\n",
    "|divmod(x, y)   |the pair (x // y, x % y)                |\n",
    "|pow(x, y)      |x to the power y                        | \n",
    "|x ** y         |x to the power y                        |"
   ]
  },
  {
   "attachments": {},
   "cell_type": "markdown",
   "metadata": {
    "slideshow": {
     "slide_type": "slide"
    }
   },
   "source": [
    "### Booleans and comparison\n",
    "\n",
    "Another type in python is the so called boolean type. This type has two values: True and false. Booleans can be assign to a variable name or created for example when comparing values using the equal operator '=='. Another way to compare values is the not equal operator '!=' and the operators for greater '>' or smaller '<'."
   ]
  },
  {
   "cell_type": "code",
   "execution_count": 37,
   "metadata": {
    "slideshow": {
     "slide_type": "fragment"
    }
   },
   "outputs": [
    {
     "name": "stdout",
     "output_type": "stream",
     "text": [
      "True\n",
      "False\n"
     ]
    }
   ],
   "source": [
    "x = True\n",
    "print(x)\n",
    "y = False\n",
    "print(y)"
   ]
  },
  {
   "cell_type": "code",
   "execution_count": 38,
   "metadata": {
    "slideshow": {
     "slide_type": "slide"
    }
   },
   "outputs": [],
   "source": [
    "city_1 = 'Wuerzburg'\n",
    "pop_1 = 127880\n",
    "region_1 = 'Bavaria'\n",
    "city_2 = 'Munich'\n",
    "pop_2 = 1484226\n",
    "region_2 = 'Bavaria'"
   ]
  },
  {
   "cell_type": "code",
   "execution_count": 39,
   "metadata": {
    "slideshow": {
     "slide_type": "fragment"
    }
   },
   "outputs": [
    {
     "name": "stdout",
     "output_type": "stream",
     "text": [
      "False\n",
      "True\n",
      "False\n",
      "True\n"
     ]
    }
   ],
   "source": [
    "print(pop_1 == pop_2)\n",
    "print(region_1 == region_2) \n",
    "print(pop_1 > pop_2)\n",
    "print(city_1 != city_2)"
   ]
  },
  {
   "attachments": {},
   "cell_type": "markdown",
   "metadata": {},
   "source": [
    "Small Exercise\n",
    "\n",
    "- Is x = y = 1 a legal assignment in Python?\n",
    "- What about 42 = n?\n",
    "- Does it make a difference if you write n=100 instead of n = 100?\n",
    "- What is the difference between = and == ?\n",
    "- What does the % operator do?\n",
    "- What type is the result, when you multiply a float and an int? What happens when you divide by zero?\n",
    "- What happens when you type 5.0∗∗1000 ?\n",
    "- How can you calculate the square root using the operator ∗∗?\n",
    "- Convert 7.999999999 to an int\n",
    "- Subtract 5 to the 3rd power, which is 53, from 100 and divide the result by 5\n",
    "- Convert 90 degrees to radians\n",
    "- Calculate the area of a trapeziod with base1=5, base2=6, height=6\n",
    "\n"
   ]
  },
  {
   "cell_type": "code",
   "execution_count": 40,
   "metadata": {},
   "outputs": [
    {
     "name": "stdout",
     "output_type": "stream",
     "text": [
      "89.99992398025215\n",
      "87.63\n"
     ]
    }
   ],
   "source": [
    "#  Is x = y = 1 a legal assignment in Python?\n",
    "# x = y = 1\n",
    "# print(x)\n",
    "# print(y)\n",
    "\n",
    "# Yes it is a legal assignment in Python\n",
    "\n",
    "# What about 42 = n?\n",
    "# 42 = n\n",
    "# print (42)\n",
    "# No, 42 = n is not a legal assignment in Python\n",
    "\n",
    "# Does it make a difference if you write n=100 instead of n = 100?\n",
    "# n = 100\n",
    "# print(n)\n",
    "# No, it doesnt make a difference if its n = 100 or n=100\n",
    "\n",
    "# What is the difference between = and == ?\n",
    "# n=121\n",
    "# n==120\n",
    "# print(n)\n",
    "# \"=\" is used to assign a value to the variable and \"==\" is a boolean operator used to check if the value is true or false\n",
    "\n",
    "# What does the % operator do?\n",
    "# 20%3\n",
    "# In digits it gives the remainder of the two nos.\n",
    "# in pip it is used to install the packages \"known as the magic operator\"\n",
    "\n",
    "# What type is the result, when you multiply a float and an int? What happens when you divide by zero?\n",
    "# a = 34.69\n",
    "# b = 20\n",
    "# print((a*b))\n",
    "# print(type(a*b))\n",
    "# The result is a \"float\"\n",
    "# print(a/0)\n",
    "# It gives an error \"ZeroDivisionError\" \"float division by zero\"\n",
    "\n",
    "# What happens when you type 5.0∗∗1000 ?\n",
    "# 5.0∗∗1000 # gives an error \"invalid decimal literal\"\n",
    "\n",
    "# How can you calculate the square root using the operator ∗∗?\n",
    "# a = 2**2\n",
    "# b = 16**2\n",
    "\n",
    "# print(a)\n",
    "# print(b)\n",
    "# ** operator is used to add power to a specific number, \n",
    "# eg n**m here n denotes the number and m denotes the power which could be set\n",
    "\n",
    "# Convert 7.999999999 to an int\n",
    "# a = int(7.999999999)\n",
    "# print(type(a))\n",
    "\n",
    "# Subtract 5 to the 3rd power, which is 53, from 100 and divide the result by 5\n",
    "# a = (53**3)\n",
    "# print(a)\n",
    "\n",
    "# b = 100-a\n",
    "# print(b)\n",
    "\n",
    "# c = b/5\n",
    "# print(c)\n",
    "\n",
    "# wrapping the above problem in a function\n",
    "def ex_calc_1(input_1:int):\n",
    "    val_1 = input_1**3\n",
    "    print(val_1)\n",
    "    val_2 = 100-val_1\n",
    "    print(val_2)\n",
    "    val_3 = val_2/5\n",
    "    print(val_3)\n",
    "\n",
    "# ex_calc_1(53)\n",
    "\n",
    "# Convert 90 degrees to radians\n",
    "\n",
    "import math\n",
    "\n",
    "def radian_calc(degree_input:int):\n",
    "    radian =  degree_input*(3.14159/math.pi)\n",
    "    print(radian)\n",
    "\n",
    "radian_calc(90)\n",
    "\n",
    "\n",
    "# Calculate the area of a trapeziod with base1=5, base2=6, height=6\n",
    "\n",
    "def ar_trapezoid(base_1, base_2, height_1):\n",
    "    area = ((base_1 + base_2) * (height_1)) / 2\n",
    "print(area)\n",
    "\n",
    "ar_trapezoid(5,6,6)\n",
    "\n",
    "\n",
    "\n"
   ]
  },
  {
   "attachments": {},
   "cell_type": "markdown",
   "metadata": {
    "slideshow": {
     "slide_type": "slide"
    }
   },
   "source": [
    "### Strings\n",
    "\n",
    "If you want to use text in python, you have to use 'strings'. A string is created by writing your desired text between two single '(...)' or double quotation marks \"(...)\". For printing text (or numbers) use the 'print()' function."
   ]
  },
  {
   "cell_type": "code",
   "execution_count": 41,
   "metadata": {},
   "outputs": [
    {
     "data": {
      "text/plain": [
       "False"
      ]
     },
     "execution_count": 41,
     "metadata": {},
     "output_type": "execute_result"
    }
   ],
   "source": [
    "text = 'Spatial Python'\n",
    "text.isupper()"
   ]
  },
  {
   "attachments": {},
   "cell_type": "markdown",
   "metadata": {},
   "source": [
    "Other data types can be converted to a string using the str function:"
   ]
  },
  {
   "cell_type": "code",
   "execution_count": 42,
   "metadata": {
    "slideshow": {
     "slide_type": "fragment"
    }
   },
   "outputs": [
    {
     "data": {
      "text/plain": [
       "'The population of Würzburg is 127880'"
      ]
     },
     "execution_count": 42,
     "metadata": {},
     "output_type": "execute_result"
    }
   ],
   "source": [
    "pop = 127880    \n",
    "\n",
    "'The population of Würzburg is ' + str(pop)"
   ]
  },
  {
   "attachments": {},
   "cell_type": "markdown",
   "metadata": {},
   "source": [
    "Of course strings can be also converted to numbers"
   ]
  },
  {
   "cell_type": "code",
   "execution_count": 43,
   "metadata": {},
   "outputs": [
    {
     "data": {
      "text/plain": [
       "42"
      ]
     },
     "execution_count": 43,
     "metadata": {},
     "output_type": "execute_result"
    },
    {
     "data": {
      "text/plain": [
       "42.2"
      ]
     },
     "execution_count": 43,
     "metadata": {},
     "output_type": "execute_result"
    }
   ],
   "source": [
    "int(\"42\")\n",
    "float(\"42.2\")"
   ]
  },
  {
   "attachments": {},
   "cell_type": "markdown",
   "metadata": {
    "slideshow": {
     "slide_type": "slide"
    }
   },
   "source": [
    "Strings can be concatenated with the + operator"
   ]
  },
  {
   "cell_type": "code",
   "execution_count": 44,
   "metadata": {
    "slideshow": {
     "slide_type": "fragment"
    }
   },
   "outputs": [
    {
     "data": {
      "text/plain": [
       "'Sentinel2_B1.tif'"
      ]
     },
     "execution_count": 44,
     "metadata": {},
     "output_type": "execute_result"
    }
   ],
   "source": [
    "\"Sentinel2_\" + \"B\" + str(1) + \".tif\""
   ]
  },
  {
   "attachments": {},
   "cell_type": "markdown",
   "metadata": {},
   "source": [
    "Besides the + operator Python also has some more advanced formatting methods"
   ]
  },
  {
   "cell_type": "code",
   "execution_count": 45,
   "metadata": {
    "tags": []
   },
   "outputs": [
    {
     "name": "stdout",
     "output_type": "stream",
     "text": [
      "Sentinel2_B1.tif\n",
      "Sentinel2_B2.tif\n",
      "Sentinel2_B3.tif\n",
      "Sentinel2_B4.tif\n",
      "Sentinel2_B5.tif\n",
      "Sentinel2_B6.tif\n"
     ]
    }
   ],
   "source": [
    "y=[1,2,3,4,5,6]\n",
    "for x in y:\n",
    "    print(f\"Sentinel2_B{x}.tif\")\n",
    "    "
   ]
  },
  {
   "cell_type": "code",
   "execution_count": 46,
   "metadata": {},
   "outputs": [
    {
     "data": {
      "text/plain": [
       "'Sentinel2_B1.tif'"
      ]
     },
     "execution_count": 46,
     "metadata": {},
     "output_type": "execute_result"
    },
    {
     "data": {
      "text/plain": [
       "'Sentinel2_B1.tif'"
      ]
     },
     "execution_count": 46,
     "metadata": {},
     "output_type": "execute_result"
    }
   ],
   "source": [
    "x=1 \n",
    "\n",
    "f\"Sentinel2_B{x}.tif\"\n",
    "\n",
    "\"Sentinel2_B{}.tif\".format(1)"
   ]
  },
  {
   "attachments": {},
   "cell_type": "markdown",
   "metadata": {
    "slideshow": {
     "slide_type": "slide"
    }
   },
   "source": [
    "Python also provides many built-in functions and methods for strings. Below are just a few examples"
   ]
  },
  {
   "attachments": {},
   "cell_type": "markdown",
   "metadata": {},
   "source": [
    "| Function/Methods Name | Description |\n",
    "|---------------|------------|\n",
    "| capitalize() | Converts the first character of the string to a capital (uppercase) letter |\n",
    "| count()| Returns the number of occurrences of a substring in the string. |\n",
    "| encode()| Encodes strings with the specified encoded scheme |\n",
    "| endswith()| Returns “True” if a string ends with the given suffix |\n",
    "| find()| Returns the lowest index of the substring if it is found |\n",
    "| format()| Formats the string for printing it to console |\n",
    "| index()| Returns the position of the first occurrence of a substring in a string |\n",
    "| isalnum()| Checks whether all the characters in a given string is alphanumeric or not |\n",
    "| isalpha()| Returns “True” if all characters in the string are alphabets |\n",
    "| isdecimal()| Returns true if all characters in a string are decimal |\n",
    "| isnumeric()| Returns “True” if all characters in the string are numeric characters |\n",
    "| isprintable()| Returns “True” if all characters in the string are printable or the string is empty |\n",
    "| supper()| Checks if all characters in the string are uppercase |\n",
    "| join()| Returns a concatenated String |\n",
    "| lower()| Converts all uppercase characters in a string into lowercase |\n",
    "| replace()| Replaces all occurrences of a substring with another substring |\n",
    "| startswith()| Returns “True” if a string starts with the given prefix |\n",
    "| strip()| Returns the string with both leading and trailing characters |\n",
    "| swapcase()| Converts all uppercase characters to lowercase and vice versa |\n",
    "| title()| Convert string to title case |\n",
    "| translate()| Modify string according to given translation mappings |\n",
    "| upper()| Converts all lowercase characters in a string into uppercase |\n",
    "| zfill()| Returns a copy of the string with ‘0’ characters padded to the left side of the string |"
   ]
  },
  {
   "cell_type": "code",
   "execution_count": 47,
   "metadata": {},
   "outputs": [
    {
     "data": {
      "text/plain": [
       "'HELLO WORLD'"
      ]
     },
     "execution_count": 47,
     "metadata": {},
     "output_type": "execute_result"
    },
    {
     "data": {
      "text/plain": [
       "2"
      ]
     },
     "execution_count": 47,
     "metadata": {},
     "output_type": "execute_result"
    },
    {
     "data": {
      "text/plain": [
       "3"
      ]
     },
     "execution_count": 47,
     "metadata": {},
     "output_type": "execute_result"
    }
   ],
   "source": [
    "string = \"Hello World\"\n",
    "\n",
    "string.upper()\n",
    "#string.replace('Hello', 'My')\n",
    "string.find('l')\n",
    "string.count('l')"
   ]
  },
  {
   "cell_type": "code",
   "execution_count": 48,
   "metadata": {
    "tags": []
   },
   "outputs": [
    {
     "name": "stdout",
     "output_type": "stream",
     "text": [
      "Help on built-in function find:\n",
      "\n",
      "find(...) method of builtins.str instance\n",
      "    S.find(sub[, start[, end]]) -> int\n",
      "    \n",
      "    Return the lowest index in S where substring sub is found,\n",
      "    such that sub is contained within S[start:end].  Optional\n",
      "    arguments start and end are interpreted as in slice notation.\n",
      "    \n",
      "    Return -1 on failure.\n",
      "\n"
     ]
    }
   ],
   "source": [
    "help(string.find)"
   ]
  },
  {
   "attachments": {},
   "cell_type": "markdown",
   "metadata": {},
   "source": [
    "Strings in python can be accesssed by index or sliced"
   ]
  },
  {
   "cell_type": "code",
   "execution_count": 49,
   "metadata": {
    "tags": []
   },
   "outputs": [
    {
     "data": {
      "text/plain": [
       "'ello'"
      ]
     },
     "execution_count": 49,
     "metadata": {},
     "output_type": "execute_result"
    }
   ],
   "source": [
    "string[1:5]"
   ]
  },
  {
   "cell_type": "code",
   "execution_count": 50,
   "metadata": {},
   "outputs": [
    {
     "data": {
      "text/plain": [
       "'l'"
      ]
     },
     "execution_count": 50,
     "metadata": {},
     "output_type": "execute_result"
    },
    {
     "data": {
      "text/plain": [
       "'ello'"
      ]
     },
     "execution_count": 50,
     "metadata": {},
     "output_type": "execute_result"
    },
    {
     "data": {
      "text/plain": [
       "'W'"
      ]
     },
     "execution_count": 50,
     "metadata": {},
     "output_type": "execute_result"
    },
    {
     "data": {
      "text/plain": [
       "'llo World'"
      ]
     },
     "execution_count": 50,
     "metadata": {},
     "output_type": "execute_result"
    },
    {
     "data": {
      "text/plain": [
       "'He'"
      ]
     },
     "execution_count": 50,
     "metadata": {},
     "output_type": "execute_result"
    },
    {
     "data": {
      "text/plain": [
       "'d'"
      ]
     },
     "execution_count": 50,
     "metadata": {},
     "output_type": "execute_result"
    }
   ],
   "source": [
    "string[2]    # get third character\n",
    "string[1:5]  # slice from 1 (included) to 5 (excluded)\n",
    "string[-5]   # count from behind\n",
    "string[2:]   # from 2 (included) to end\n",
    "string[:2]   # from 0 to 1\n",
    "string[-1]   # last character"
   ]
  },
  {
   "attachments": {},
   "cell_type": "markdown",
   "metadata": {},
   "source": [
    "<img src=\"images/indexing.png\" width=600 />"
   ]
  },
  {
   "attachments": {},
   "cell_type": "markdown",
   "metadata": {
    "slideshow": {
     "slide_type": "slide"
    }
   },
   "source": [
    "### Lists\n",
    "Another data type are so called lists. Lists can be created putting several comma-separated values between square brackets. You can use lists to generate sequences of values, which can be of the same or different datatype.\n"
   ]
  },
  {
   "cell_type": "code",
   "execution_count": 51,
   "metadata": {
    "slideshow": {
     "slide_type": "fragment"
    }
   },
   "outputs": [
    {
     "data": {
      "text/plain": [
       "['a', 'b', 'c', 'd', 'e', 'f']"
      ]
     },
     "execution_count": 51,
     "metadata": {},
     "output_type": "execute_result"
    },
    {
     "data": {
      "text/plain": [
       "[1, 2, 3, 4, 5, 6, 7]"
      ]
     },
     "execution_count": 51,
     "metadata": {},
     "output_type": "execute_result"
    },
    {
     "data": {
      "text/plain": [
       "['hello', 2.45, 3, 'a', (-0.6545+0j)]"
      ]
     },
     "execution_count": 51,
     "metadata": {},
     "output_type": "execute_result"
    }
   ],
   "source": [
    "letter_list = ['a','b','c','d','e','f'] #list of stringd\n",
    "letter_list\n",
    "\n",
    "list_of_numbers = [1,2,3,4,5,6,7] #list of numbers\n",
    "list_of_numbers\n",
    "\n",
    "mixed_list = ['hello', 2.45, 3, 'a', -.6545+0J] #mixing different data types\n",
    "mixed_list"
   ]
  },
  {
   "attachments": {},
   "cell_type": "markdown",
   "metadata": {
    "slideshow": {
     "slide_type": "slide"
    }
   },
   "source": [
    "Similar to strings values in a list can be done using indexing or slicing. "
   ]
  },
  {
   "cell_type": "code",
   "execution_count": 52,
   "metadata": {
    "slideshow": {
     "slide_type": "fragment"
    }
   },
   "outputs": [
    {
     "data": {
      "text/plain": [
       "3"
      ]
     },
     "execution_count": 52,
     "metadata": {},
     "output_type": "execute_result"
    },
    {
     "name": "stdout",
     "output_type": "stream",
     "text": [
      "[2, 3, 4, 'a']\n",
      "4\n",
      "[3, 4, 'a', 'b', 'c', 'd']\n",
      "[1, 2]\n"
     ]
    }
   ],
   "source": [
    "random = [1, 2, 3, 4, 'a', 'b','c','d']\n",
    "\n",
    "random[2]\n",
    "print(random[1:5])  # slice from 1 (included) to 5 (included)\n",
    "print(random[-5])   # count from behind\n",
    "print(random[2:])   # from 2 (included) to end\n",
    "print(random[:2])   # from begin to 2 (!not included!)"
   ]
  },
  {
   "attachments": {},
   "cell_type": "markdown",
   "metadata": {
    "slideshow": {
     "slide_type": "subslide"
    }
   },
   "source": [
    "You can also update lists  with one or more elements by giving the slice on the left-hand side. It´s also possible to append new elements to the list or delete list elements with the function."
   ]
  },
  {
   "cell_type": "code",
   "execution_count": 53,
   "metadata": {
    "slideshow": {
     "slide_type": "fragment"
    }
   },
   "outputs": [
    {
     "name": "stdout",
     "output_type": "stream",
     "text": [
      "Madrid\n"
     ]
    },
    {
     "data": {
      "text/plain": [
       "['Berlin', 'Paris', 'London', 'Rome', 'Lisboa']"
      ]
     },
     "execution_count": 53,
     "metadata": {},
     "output_type": "execute_result"
    },
    {
     "data": {
      "text/plain": [
       "['Berlin', 'Paris', 'London', 'Lisboa']"
      ]
     },
     "execution_count": 53,
     "metadata": {},
     "output_type": "execute_result"
    },
    {
     "data": {
      "text/plain": [
       "['Berlin', 'Paris', 'London', 'Lisboa', 'Vienna']"
      ]
     },
     "execution_count": 53,
     "metadata": {},
     "output_type": "execute_result"
    }
   ],
   "source": [
    "cities = ['Berlin', 'Paris','London','Madrid','Lisboa']\n",
    "print(cities[3])\n",
    "\n",
    "# Update list\n",
    "cities[3] = 'Rome'\n",
    "cities\n",
    "\n",
    "# deleting elements\n",
    "del(cities[3])\n",
    "cities\n",
    "\n",
    "# append elemnts\n",
    "cities.append('Vienna')\n",
    "cities"
   ]
  },
  {
   "attachments": {},
   "cell_type": "markdown",
   "metadata": {
    "slideshow": {
     "slide_type": "slide"
    }
   },
   "source": [
    "There are many different ways to interact with lists. Exploring them is part of the fun of python."
   ]
  },
  {
   "attachments": {},
   "cell_type": "markdown",
   "metadata": {
    "slideshow": {
     "slide_type": "slide"
    }
   },
   "source": [
    "| Function/Method Name | Description |\n",
    "|---------------|-------------|\n",
    "| list.append(x) | Add an item to the end of the list. Equivalent to a[len(a):] = [x]. |\n",
    "| list.extend(L) | Extend the list by appending all the items in the given list. Equivalent to a[len(a):] = L. |\n",
    "| list.insert(i, x) | Insert an item at a given position. The first argument is the index of the element before which to insert, so a.insert(0, x) inserts at the front of the list, and a.insert(len(a), x) is equivalent to a.append(x). |\n",
    "| list.remove(x) | Remove the first item from the list whose value is x. It is an error if there is no such item. |\n",
    "| list.pop([i]) | Remove the item at the given position in the list, and return it. If no index is specified, a.pop() removes and returns the last item in the list. |\n",
    "| list.clear() | Remove all items from the list. Equivalent to del a[:]. |\n",
    "| list.index(x) | Return the index in the list of the first item whose value is x. It is an error if there is no such item. |\n",
    "| list.count(x) | Return the number of times x appears in the list. |\n",
    "| list.sort() | Sort the items of the list in place. |\n",
    "| list.reverse() | Reverse the elements of the list in place. |\n",
    "| list.copy() | Return a shallow copy of the list. Equivalent to a[:]. |\n",
    "| len(list) | Returns the number of items in the list. | \n",
    "| max(list) | Returns the largest item  or the largest of two or more arguments. | \n",
    "| min(list) | Returns the smallest item or the smallest of two or more arguments. | "
   ]
  },
  {
   "cell_type": "code",
   "execution_count": 54,
   "metadata": {},
   "outputs": [
    {
     "data": {
      "text/plain": [
       "5"
      ]
     },
     "execution_count": 54,
     "metadata": {},
     "output_type": "execute_result"
    },
    {
     "data": {
      "text/plain": [
       "0.21"
      ]
     },
     "execution_count": 54,
     "metadata": {},
     "output_type": "execute_result"
    },
    {
     "data": {
      "text/plain": [
       "[5.6, 4.3, 3.4, 3.0, 0.21]"
      ]
     },
     "execution_count": 54,
     "metadata": {},
     "output_type": "execute_result"
    }
   ],
   "source": [
    "temp = [3.4,4.3,5.6,0.21,3.0]\n",
    "\n",
    "len(temp)\n",
    "min(temp)\n",
    "temp.sort()\n",
    "temp.reverse()\n",
    "temp"
   ]
  },
  {
   "attachments": {},
   "cell_type": "markdown",
   "metadata": {
    "slideshow": {
     "slide_type": "slide"
    }
   },
   "source": [
    "### Tuples\n",
    "Tuples are sequences, just like lists. The difference is that tuples are immutable. Which means that they can´t be changed like lists. Tuples can be created without brackets (optionally you can use parenthesis)."
   ]
  },
  {
   "cell_type": "code",
   "execution_count": 55,
   "metadata": {
    "slideshow": {
     "slide_type": "fragment"
    }
   },
   "outputs": [
    {
     "data": {
      "text/plain": [
       "('a', 'b', 'c')"
      ]
     },
     "execution_count": 55,
     "metadata": {},
     "output_type": "execute_result"
    },
    {
     "data": {
      "text/plain": [
       "(1, 2, 3, 4, 5)"
      ]
     },
     "execution_count": 55,
     "metadata": {},
     "output_type": "execute_result"
    },
    {
     "data": {
      "text/plain": [
       "('a', 'b', 'c', 'd', 2)"
      ]
     },
     "execution_count": 55,
     "metadata": {},
     "output_type": "execute_result"
    }
   ],
   "source": [
    "tup1 = \"a\", \"b\",\"c\"\n",
    "tup2 = (1, 2, 3, 4, 5 )\n",
    "tup3 = (\"a\", \"b\", \"c\", \"d\",2)\n",
    "tup1\n",
    "tup2\n",
    "tup3"
   ]
  },
  {
   "attachments": {},
   "cell_type": "markdown",
   "metadata": {
    "slideshow": {
     "slide_type": "slide"
    }
   },
   "source": [
    "You can access elements in the same way as lists. But due to the fact that tuples are **immutable**, you cannot update or change the values of tuple elements."
   ]
  },
  {
   "cell_type": "code",
   "execution_count": 56,
   "metadata": {
    "slideshow": {
     "slide_type": "fragment"
    }
   },
   "outputs": [
    {
     "data": {
      "text/plain": [
       "3"
      ]
     },
     "execution_count": 56,
     "metadata": {},
     "output_type": "execute_result"
    },
    {
     "data": {
      "text/plain": [
       "(2, 3, 4, 'a')"
      ]
     },
     "execution_count": 56,
     "metadata": {},
     "output_type": "execute_result"
    },
    {
     "data": {
      "text/plain": [
       "4"
      ]
     },
     "execution_count": 56,
     "metadata": {},
     "output_type": "execute_result"
    },
    {
     "data": {
      "text/plain": [
       "(3, 4, 'a', 'b', 'c', 'd')"
      ]
     },
     "execution_count": 56,
     "metadata": {},
     "output_type": "execute_result"
    },
    {
     "data": {
      "text/plain": [
       "(1, 2)"
      ]
     },
     "execution_count": 56,
     "metadata": {},
     "output_type": "execute_result"
    }
   ],
   "source": [
    "# Access elements\n",
    "tup1 = 1, 2, 3, 4, 'a', 'b','c','d'\n",
    "\n",
    "tup1[2]\n",
    "tup1[1:5]  # slice from 1 (included) to 5 (included)\n",
    "tup1[-5]   # count from behind\n",
    "tup1[2:]   # from 2 (included) to end\n",
    "tup1[:2]   # from begin to 2 (!not included!)"
   ]
  },
  {
   "cell_type": "code",
   "execution_count": 57,
   "metadata": {
    "slideshow": {
     "slide_type": "fragment"
    }
   },
   "outputs": [
    {
     "ename": "TypeError",
     "evalue": "'tuple' object does not support item assignment",
     "output_type": "error",
     "traceback": [
      "\u001b[1;31m---------------------------------------------------------------------------\u001b[0m",
      "\u001b[1;31mTypeError\u001b[0m                                 Traceback (most recent call last)",
      "Cell \u001b[1;32mIn[57], line 4\u001b[0m\n\u001b[0;32m      1\u001b[0m tup1 \u001b[39m=\u001b[39m (\u001b[39m123\u001b[39m,\u001b[39m4554\u001b[39m,\u001b[39m5\u001b[39m,\u001b[39m454\u001b[39m, \u001b[39m34.56\u001b[39m)\n\u001b[0;32m      2\u001b[0m tup2 \u001b[39m=\u001b[39m (\u001b[39m'\u001b[39m\u001b[39mabc\u001b[39m\u001b[39m'\u001b[39m,\u001b[39m'\u001b[39m\u001b[39mdef\u001b[39m\u001b[39m'\u001b[39m, \u001b[39m'\u001b[39m\u001b[39mghi\u001b[39m\u001b[39m'\u001b[39m ,\u001b[39m'\u001b[39m\u001b[39mxyz\u001b[39m\u001b[39m'\u001b[39m)\n\u001b[1;32m----> 4\u001b[0m tup1[\u001b[39m0\u001b[39;49m] \u001b[39m=\u001b[39m \u001b[39m10\u001b[39m \u001b[39m#This action is not allowed for tuples\u001b[39;00m\n",
      "\u001b[1;31mTypeError\u001b[0m: 'tuple' object does not support item assignment"
     ]
    }
   ],
   "source": [
    "tup1 = (123,4554,5,454, 34.56)\n",
    "tup2 = ('abc','def', 'ghi' ,'xyz')\n",
    "\n",
    "tup1[0] = 10 #This action is not allowed for tuples"
   ]
  },
  {
   "attachments": {},
   "cell_type": "markdown",
   "metadata": {
    "slideshow": {
     "slide_type": "slide"
    }
   },
   "source": [
    "Tuples also have some built-in functions"
   ]
  },
  {
   "cell_type": "code",
   "execution_count": null,
   "metadata": {
    "slideshow": {
     "slide_type": "fragment"
    }
   },
   "outputs": [
    {
     "data": {
      "text/plain": [
       "12"
      ]
     },
     "execution_count": 133,
     "metadata": {},
     "output_type": "execute_result"
    },
    {
     "data": {
      "text/plain": [
       "1"
      ]
     },
     "execution_count": 133,
     "metadata": {},
     "output_type": "execute_result"
    },
    {
     "data": {
      "text/plain": [
       "9"
      ]
     },
     "execution_count": 133,
     "metadata": {},
     "output_type": "execute_result"
    },
    {
     "data": {
      "text/plain": [
       "2"
      ]
     },
     "execution_count": 133,
     "metadata": {},
     "output_type": "execute_result"
    }
   ],
   "source": [
    "tup1 = (1,2,1,4,3,4,5,6,7,8,8,9)\n",
    "\n",
    "len(tup1)\n",
    "min(tup1)\n",
    "max(tup1)\n",
    "tup1.count(8)"
   ]
  },
  {
   "attachments": {},
   "cell_type": "markdown",
   "metadata": {
    "slideshow": {
     "slide_type": "slide"
    }
   },
   "source": [
    "#### Why using tuples at all ?\n",
    "\n",
    "\n",
    "- Tuples are faster than lists and need less memory\n",
    "\n",
    "- It makes your code safer if you “write-protect” data that does not need to be changed. \n",
    "\n",
    "- Tuples can be used as dictionary keys \n",
    "\n"
   ]
  },
  {
   "attachments": {},
   "cell_type": "markdown",
   "metadata": {
    "slideshow": {
     "slide_type": "slide"
    }
   },
   "source": [
    "### Dictionaries\n",
    "\n",
    "Strings, lists and tuples are so called sequential datatypes. Dictionaries belong to python’s built-in mapping type. Sequential datatypes use integers as indices to access the values they contain within them. Dictionaries allows to use map keys. The values of a dictionary can be of any type, but the keys must be of an immutable data type (strings, numbers, tuples). \n",
    "Dictionaries are constructed with curly brackets {}. Key and values are separated by colons ':'and square brackets are used to index it. It´s not allowed more entries per key, which also means that duplicate keys are also not allowed."
   ]
  },
  {
   "attachments": {},
   "cell_type": "markdown",
   "metadata": {
    "slideshow": {
     "slide_type": "slide"
    }
   },
   "source": [
    "<img src=\"images/dict.png\" width=600 />"
   ]
  },
  {
   "cell_type": "code",
   "execution_count": null,
   "metadata": {
    "slideshow": {
     "slide_type": "slide"
    }
   },
   "outputs": [],
   "source": [
    "city_temp = {'Names': {'City': 'Dublin',\n",
    "                         'Temp': 3 }}"
   ]
  },
  {
   "attachments": {},
   "cell_type": "markdown",
   "metadata": {},
   "source": [
    "Dictionary values are accessible through the keys"
   ]
  },
  {
   "cell_type": "code",
   "execution_count": null,
   "metadata": {},
   "outputs": [
    {
     "data": {
      "text/plain": [
       "{'City': 'Dublin', 'Temp': 3}"
      ]
     },
     "execution_count": 135,
     "metadata": {},
     "output_type": "execute_result"
    }
   ],
   "source": [
    "city_temp['Names']\n",
    "#city_temp['MaxTemp']\n",
    "#city_temp['MinTemp']"
   ]
  },
  {
   "attachments": {},
   "cell_type": "markdown",
   "metadata": {
    "slideshow": {
     "slide_type": "slide"
    }
   },
   "source": [
    "Dictionaries can be updated and elements can be removed. "
   ]
  },
  {
   "cell_type": "code",
   "execution_count": null,
   "metadata": {
    "slideshow": {
     "slide_type": "fragment"
    }
   },
   "outputs": [
    {
     "data": {
      "text/plain": [
       "{'City': 'Dublin', 'MaxTemp': 15.65, 'MinTemp': 5.0}"
      ]
     },
     "execution_count": 136,
     "metadata": {},
     "output_type": "execute_result"
    }
   ],
   "source": [
    "# Update dictionaries\n",
    "city_temp = {'City': 'Dublin', 'MaxTemp': 15.5, 'MinTemp': 5.0}\n",
    "city_temp['MaxTemp'] = 15.65;                                # update existing entry\n",
    "city_temp['Population'] = 544107;                    # Add new entry\n",
    "del(city_temp['Population'])\n",
    "city_temp\n",
    "#city_temp['MaxTemp']\n",
    "#city_temp['Population']"
   ]
  },
  {
   "attachments": {},
   "cell_type": "markdown",
   "metadata": {},
   "source": [
    "Of course we can also use more than one value per key"
   ]
  },
  {
   "cell_type": "code",
   "execution_count": null,
   "metadata": {},
   "outputs": [],
   "source": [
    "city_temp = {'City': ['Dublin','London'], 'MaxTemp': [15.5,12.5], 'MinTemp': [15.5,12.5]}"
   ]
  },
  {
   "attachments": {},
   "cell_type": "markdown",
   "metadata": {},
   "source": [
    "If we access a key with multiple values we get back a list"
   ]
  },
  {
   "cell_type": "code",
   "execution_count": null,
   "metadata": {
    "slideshow": {
     "slide_type": "fragment"
    }
   },
   "outputs": [
    {
     "data": {
      "text/plain": [
       "[15.5, 12.5]"
      ]
     },
     "execution_count": 138,
     "metadata": {},
     "output_type": "execute_result"
    },
    {
     "data": {
      "text/plain": [
       "12.5"
      ]
     },
     "execution_count": 138,
     "metadata": {},
     "output_type": "execute_result"
    }
   ],
   "source": [
    "city_temp['MaxTemp']\n",
    "city_temp['MaxTemp'][1]"
   ]
  },
  {
   "attachments": {},
   "cell_type": "markdown",
   "metadata": {
    "slideshow": {
     "slide_type": "slide"
    }
   },
   "source": [
    "\n",
    "Few examples of built-in functions and methods."
   ]
  },
  {
   "attachments": {},
   "cell_type": "markdown",
   "metadata": {},
   "source": [
    "| Function/Method | Description| \n",
    "| ----------------| -----------| \n",
    "| clear()| Removes all the elements from the dictionary| \n",
    "| copy()| Returns a copy of the dictionary| \n",
    "| fromkeys()| Returns a dictionary with the specified keys and value| \n",
    "| get()  | Returns the value of the specified key| \n",
    "| items()| Returns a list containing a tuple for each key value pair| \n",
    "| keys()| Returns a list containing the dictionary's keys| \n",
    "| pop() | Removes the element with the specified key| \n",
    "| popitem()| Removes the last inserted key-value pair| \n",
    "| setdefault()| Returns the value of the specified key. If the key does not exist: insert the key, with the specified value| \n",
    "| update()| Updates the dictionary with the specified key-value pairs| \n",
    "| values()| Returns a list of all the values in the dictionary| "
   ]
  },
  {
   "cell_type": "code",
   "execution_count": null,
   "metadata": {
    "slideshow": {
     "slide_type": "fragment"
    }
   },
   "outputs": [
    {
     "data": {
      "text/plain": [
       "dict_keys(['City', 'MaxTemp', 'MinTemp'])"
      ]
     },
     "execution_count": 139,
     "metadata": {},
     "output_type": "execute_result"
    },
    {
     "data": {
      "text/plain": [
       "dict_values([['Dublin', 'London'], [15.5, 12.5], [15.5, 12.5]])"
      ]
     },
     "execution_count": 139,
     "metadata": {},
     "output_type": "execute_result"
    },
    {
     "data": {
      "text/plain": [
       "3"
      ]
     },
     "execution_count": 139,
     "metadata": {},
     "output_type": "execute_result"
    },
    {
     "data": {
      "text/plain": [
       "2"
      ]
     },
     "execution_count": 139,
     "metadata": {},
     "output_type": "execute_result"
    },
    {
     "data": {
      "text/plain": [
       "15.5"
      ]
     },
     "execution_count": 139,
     "metadata": {},
     "output_type": "execute_result"
    },
    {
     "data": {
      "text/plain": [
       "12.5"
      ]
     },
     "execution_count": 139,
     "metadata": {},
     "output_type": "execute_result"
    }
   ],
   "source": [
    "city_temp.keys()\n",
    "city_temp.values()\n",
    "\n",
    "len(city_temp) \n",
    "len(city_temp['City']) \n",
    "\n",
    "max(city_temp['MaxTemp']) \n",
    "min(city_temp['MinTemp'])"
   ]
  },
  {
   "attachments": {},
   "cell_type": "markdown",
   "metadata": {},
   "source": [
    "Small Exercises\n",
    "\n",
    "- How does an empty string look like?\n",
    "- How would you write a string that contains all three characters ', \" and \\ ?\n",
    "- Can you multiply an int with a string? Or a string with a float?\n",
    "- Can you reconvert a string into int or float?\n",
    "- What is the result of \"Mississippi\".split(\"i\")?\n",
    "- Does the upper method also work with German umlauts ä,ö,ü,ß ?\n",
    "- Create a string that, when indexed by 3::2 gives the string 'easter egg'\n",
    "- If L is a list, what is the difference between L.reverse() and L[::-1]?\n",
    "- Create a list of empty dictionaries\n",
    "- Can you use numbers as dictionary keys?\n",
    "- Can you use lists as dictionary keys?\n",
    "\n"
   ]
  },
  {
   "cell_type": "code",
   "execution_count": null,
   "metadata": {},
   "outputs": [
    {
     "name": "stdout",
     "output_type": "stream",
     "text": [
      "['', '']\n"
     ]
    },
    {
     "ename": "TypeError",
     "evalue": "unhashable type: 'list'",
     "output_type": "error",
     "traceback": [
      "\u001b[1;31m---------------------------------------------------------------------------\u001b[0m",
      "\u001b[1;31mTypeError\u001b[0m                                 Traceback (most recent call last)",
      "Cell \u001b[1;32mIn[216], line 78\u001b[0m\n\u001b[0;32m     70\u001b[0m \u001b[39mprint\u001b[39m(diction_1[\u001b[39m\"\u001b[39m\u001b[39mabc\u001b[39m\u001b[39m\"\u001b[39m])\n\u001b[0;32m     72\u001b[0m \u001b[39m# Question: Can you use numbers as dictionary keys?\u001b[39;00m\n\u001b[0;32m     73\u001b[0m \u001b[39m# diction_2 = {int(58):[\"successful\",\"yes\"]}\u001b[39;00m\n\u001b[0;32m     74\u001b[0m \u001b[39m# print(diction_2[58])\u001b[39;00m\n\u001b[0;32m     75\u001b[0m \u001b[39m# Yes, numbers could be used to make dictionary keys\u001b[39;00m\n\u001b[0;32m     76\u001b[0m \n\u001b[0;32m     77\u001b[0m \u001b[39m# Can you use lists as dictionary keys?\u001b[39;00m\n\u001b[1;32m---> 78\u001b[0m diction_3 \u001b[39m=\u001b[39m {[\u001b[39m\"\u001b[39m\u001b[39mfirst\u001b[39m\u001b[39m\"\u001b[39m]:[\u001b[39m\"\u001b[39m\u001b[39msuccessful\u001b[39m\u001b[39m\"\u001b[39m,\u001b[39m\"\u001b[39m\u001b[39myes\u001b[39m\u001b[39m\"\u001b[39m]}\n",
      "\u001b[1;31mTypeError\u001b[0m: unhashable type: 'list'"
     ]
    }
   ],
   "source": [
    "# How does an empty string look like?\n",
    "# a = \"\"  \n",
    "# print(a)  \n",
    "\n",
    "# How would you write a string that contains all three characters ', \" and \\ ?\n",
    "# str_1 = \"\\',\\\", \\\\\" \n",
    "# print(str_1)        \n",
    "\n",
    "# Wrapping it inside of a function\n",
    "\n",
    "\n",
    "\n",
    "# Can you multiply an int with a string? Or a string with a float?\n",
    "# a = int(5)\n",
    "\n",
    "# b = str('hello')\n",
    "\n",
    "# c = float(4.9)\n",
    "\n",
    "# def calc_int_str_float(a:int, b:str, c: float):\n",
    "#     mult_int_str = a*b\n",
    "#     # mult_str_flt = b*c\n",
    "\n",
    "#     print(mult_int_str)\n",
    "#     # print(mult_str_flt)\n",
    "\n",
    "# calc_int_str_float(5,'hello', 4.9)\n",
    "\n",
    "# Answer: String can be multiplied be integer however, string and float cannot be multiplied together\n",
    "\n",
    "# Question: What is the result of \"Mississippi\".split(\"i\")?\n",
    "\n",
    "# \"Mississippi\".split(\"i\")\n",
    "# Answer: It removes the \"i\" letter from the word and gives a list\n",
    "\n",
    "# Question: Does the upper method also work with German umlauts ä,ö,ü,ß ?\n",
    "\n",
    "# l_1 = [ä,ö,ü,ß]\n",
    "# l_2 = [\"a\",\"o\",\"u\",\"ss\"]\n",
    "\n",
    "# \"ä\".upper()\n",
    "# \"ö\".upper()\n",
    "# \"ü\".upper()\n",
    "# \"ß\".upper()\n",
    "\n",
    "# Yes it does convert the German Accented letters also to upper case\n",
    "\n",
    "# Question: Create a string that, when indexed by 3::2 gives the string 'easter egg'\n",
    "\n",
    "# st_1 = \"subarnoshankar\"\n",
    "# st_2 =\"itsetagshtjelrpghgl\"\n",
    "# st_2[3::2]\n",
    "\n",
    "# wrapping it inside a function\n",
    "# def magic_string()\n",
    "\n",
    "\n",
    "# Question: If L is a list, what is the difference between L.reverse() and L[::-1]?\n",
    "# L = [1,2,3,4,5]\n",
    "# L.reverse()\n",
    "# L\n",
    "\n",
    "# M = [1,2,3,4,5]\n",
    "# M[::-1]\n",
    "\n",
    "# Both of them reverses the order of the list, However, with .reverse() one has to call the list again with [::-1] one doesn't nec\n",
    "\n",
    "#Question: Create a list of empty dictionaries\n",
    "# diction_1 = {\"abc\":[\"\",\"\"]}\n",
    "# print(diction_1[\"abc\"])\n",
    "\n",
    "# Question: Can you use numbers as dictionary keys?\n",
    "# diction_2 = {int(58):[\"successful\",\"yes\"]}\n",
    "# print(diction_2[58])\n",
    "# Yes, numbers could be used to make dictionary keys\n",
    "\n",
    "# Can you use lists as dictionary keys?\n",
    "# diction_3 = {[\"first\"]:[\"successful\",\"yes\"]}\n",
    "# No, lists could not be used as keys"
   ]
  },
  {
   "attachments": {},
   "cell_type": "markdown",
   "metadata": {
    "slideshow": {
     "slide_type": "slide"
    }
   },
   "source": [
    "### Indentation\n",
    "\n",
    "A python program is structured through indentation. Indentations are used to separate different code block. This make it´s easier to read and understand your own code and the code of others. While in other programming languages indentation is a matter of style, in python it´s a language requirement.\n"
   ]
  },
  {
   "cell_type": "code",
   "execution_count": null,
   "metadata": {
    "slideshow": {
     "slide_type": "fragment"
    }
   },
   "outputs": [
    {
     "data": {
      "text/plain": [
       "'F'"
      ]
     },
     "execution_count": 217,
     "metadata": {},
     "output_type": "execute_result"
    }
   ],
   "source": [
    "def letterGrade(score):\n",
    "    if score >= 90:\n",
    "        letter = 'A'\n",
    "    else:   # grade must be B, C, D or F\n",
    "        if score >= 80:\n",
    "            letter = 'B'\n",
    "        else:  # grade must be C, D or F\n",
    "            if score >= 70:\n",
    "                letter = 'C'\n",
    "            else:    # grade must D or F\n",
    "                if score >= 60:\n",
    "                    letter = 'D'\n",
    "                else:\n",
    "                    letter = 'F'\n",
    "    return letter\n",
    "\n",
    "letterGrade(9)"
   ]
  },
  {
   "attachments": {},
   "cell_type": "markdown",
   "metadata": {
    "slideshow": {
     "slide_type": "slide"
    }
   },
   "source": [
    "## Control flow statements\n",
    "### While, if, else\n",
    "\n",
    "\n",
    "Decision making is required when we want to execute a code only if a certain condition holds. This means e.g. that some statements are only carried out if an expression is True. The 'while' statement repeatedly tests the given expression and executes the code block as long as the expression is True"
   ]
  },
  {
   "cell_type": "code",
   "execution_count": null,
   "metadata": {
    "slideshow": {
     "slide_type": "fragment"
    }
   },
   "outputs": [],
   "source": [
    "password = \"python2017\"\n",
    "attempt = input(\"Enter password: \")\n",
    "\n",
    "if attempt == password:\n",
    "    print(\"Welcome\")"
   ]
  },
  {
   "attachments": {},
   "cell_type": "markdown",
   "metadata": {
    "slideshow": {
     "slide_type": "slide"
    }
   },
   "source": [
    "In this case, the if statement is used to evaluates the input of the user and the following code block will only be executed if the expression is True.  If the expression is False, the statement(s) is not executed. \n",
    "But if we want that the the program does something else, even when the if-statement evaluates to false, we can add the 'else' statement."
   ]
  },
  {
   "cell_type": "code",
   "execution_count": null,
   "metadata": {
    "slideshow": {
     "slide_type": "fragment"
    }
   },
   "outputs": [
    {
     "name": "stdout",
     "output_type": "stream",
     "text": [
      "Welcome\n"
     ]
    }
   ],
   "source": [
    "password = \"python2017\"\n",
    "attempt = input(\"Enter password: \")\n",
    " \n",
    "if attempt == password:\n",
    "    print(\"Welcome\")\n",
    "else:\n",
    "    print(\"Incorrect password!\")"
   ]
  },
  {
   "cell_type": "code",
   "execution_count": 70,
   "metadata": {},
   "outputs": [
    {
     "name": "stdout",
     "output_type": "stream",
     "text": [
      "your new password is: abc\n",
      "Sanjivni is wrong password Try Again!\n"
     ]
    }
   ],
   "source": [
    "def password():\n",
    "    attempt = input(\"Set A Password:\")\n",
    "    new_pass = (attempt)\n",
    "    print(f\"your new password is: {new_pass}\")\n",
    "    verify_1 = input(\"Enter the Password:\")\n",
    "    if verify_1 == new_pass:\n",
    "        print(\"Welcome\")\n",
    "    else: \n",
    "        print(f\"{verify_1} is wrong password Try Again!\")\n",
    "password()\n"
   ]
  },
  {
   "cell_type": "code",
   "execution_count": 82,
   "metadata": {},
   "outputs": [
    {
     "name": "stdout",
     "output_type": "stream",
     "text": [
      "Your username is: Sanya and your password is: abcd\n",
      "Sanya and 673388 are wrong. Please Try Again!\n"
     ]
    }
   ],
   "source": [
    "def username_password():\n",
    "    username_1 = input(\"Enter a Username:\")\n",
    "    password_1 = input(\"Set A Password:\")\n",
    "    login_details_1 = [username_1,password_1]\n",
    "    print(f\"Your username is: {username_1} and your password is: {password_1}\")\n",
    "\n",
    "    verify_username_1 = input(\"Enter your Username\")\n",
    "    verify_password_1 = input(\"Enter your Password:\")\n",
    "    login_details_2 = [verify_username_1,verify_password_1]\n",
    "\n",
    "    if login_details_1==login_details_2:\n",
    "        print(f\"Welcome {username_1}\")\n",
    "    else: \n",
    "        print(f\"{verify_username_1} and {verify_password_1} are wrong. Please Try Again!\")\n",
    "\n",
    "    \n",
    "\n",
    "username_password()"
   ]
  },
  {
   "attachments": {},
   "cell_type": "markdown",
   "metadata": {
    "slideshow": {
     "slide_type": "slide"
    }
   },
   "source": [
    "You can also use multiple if...else statements nested into each other"
   ]
  },
  {
   "cell_type": "code",
   "execution_count": 84,
   "metadata": {
    "slideshow": {
     "slide_type": "fragment"
    }
   },
   "outputs": [
    {
     "name": "stdout",
     "output_type": "stream",
     "text": [
      "Incorrect password\n"
     ]
    }
   ],
   "source": [
    "passlist = ['12234','hamster','mydog','python','snow' ]\n",
    "name = input(\"What is your username? \")\n",
    "if name == 'Steve':\n",
    "    password = input(\"What’s the password? \")\n",
    "    #did they enter the correct password?\n",
    "    if password in passlist:\n",
    "        print(\"Welcome {0}\".format(name))\n",
    "    else:\n",
    "        print(\"Incorrect password\")\n",
    "else:\n",
    "    print(\"No valid username\")    "
   ]
  },
  {
   "attachments": {},
   "cell_type": "markdown",
   "metadata": {
    "slideshow": {
     "slide_type": "slide"
    }
   },
   "source": [
    "In the next example will want a program that evaluates more than two possible outcomes. For this, we will use an else if statement. In python else if statment is written as 'elif'."
   ]
  },
  {
   "cell_type": "code",
   "execution_count": 85,
   "metadata": {
    "slideshow": {
     "slide_type": "fragment"
    }
   },
   "outputs": [
    {
     "name": "stdout",
     "output_type": "stream",
     "text": [
      "Welcome Steve\n"
     ]
    }
   ],
   "source": [
    "name = input(\"What is your username? \")\n",
    "password = input(\"What’s the password? \")\n",
    "if name == 'Steve':\n",
    "    if password == 'python2017':\n",
    "        print(\"Welcome {0}\".format(name))\n",
    "    else:\n",
    "        print(\"Incorrect password\")\n",
    "elif name == 'Dave':\n",
    "    if password == 'python1234':\n",
    "        print(\"Welcome {0}\".format(name))\n",
    "    else:\n",
    "        print(\"Incorrect password\")\n",
    "elif name == 'Lucy':\n",
    "    if password == 'ILovePython':\n",
    "        print(\"Welcome {0}\".format(name))\n",
    "    else:\n",
    "        print(\"Incorrect password\")\n",
    "else:\n",
    "    print(\"No valid username\") "
   ]
  },
  {
   "cell_type": "code",
   "execution_count": 87,
   "metadata": {},
   "outputs": [
    {
     "name": "stdout",
     "output_type": "stream",
     "text": [
      "Welcome\n"
     ]
    }
   ],
   "source": [
    "\n",
    "\n",
    "def add_username_password():\n",
    "    username_1 = input(\"Set a Username 1:\")\n",
    "    password_1 = input(\"Set A Password 1:\")\n",
    "\n",
    "    username_2 = input(\"Set A Username 2:\")\n",
    "    password_2 = input(\"Set A Password 2:\")\n",
    "\n",
    "    username_3 = input(\"Set A Username 3:\")\n",
    "    password_3 = input(\"Set A Password 3:\")\n",
    "\n",
    "\n",
    "    login_details_1 = [username_1, password_1] \n",
    "    login_details_2 = [username_2, password_2]\n",
    "    login_details_3 = [username_3, password_3]\n",
    "\n",
    "  \n",
    "\n",
    "    verify_username_1 = input(\"Enter your Username:\")\n",
    "    verify_password_1 = input(\"Enter your Password:\")\n",
    "\n",
    "\n",
    "    if verify_username_1 in login_details_1:\n",
    "        print(\"Welcome\")\n",
    "        \n",
    "    else: \n",
    "        print(\"Try Again\")\n",
    "\n",
    "    \n",
    "\n",
    "add_username_password()"
   ]
  },
  {
   "attachments": {},
   "cell_type": "markdown",
   "metadata": {
    "slideshow": {
     "slide_type": "slide"
    }
   },
   "source": [
    "Sometimes you want that a specific code block is carried out repeatedly. This can be accomplished creating so called loops. A loop allows you to execute a statement or even a group of statements multiple times. For example, the 'while' statement, allows you to run the code within the loop as long as the expression is True."
   ]
  },
  {
   "cell_type": "code",
   "execution_count": 86,
   "metadata": {
    "slideshow": {
     "slide_type": "fragment"
    }
   },
   "outputs": [
    {
     "name": "stdout",
     "output_type": "stream",
     "text": [
      "The count is: 0\n",
      "The count is: 1\n",
      "The count is: 2\n",
      "The count is: 3\n",
      "The count is: 4\n",
      "The count is: 5\n",
      "The count is: 6\n",
      "The count is: 7\n",
      "The count is: 8\n",
      "Count maximum is reached!\n"
     ]
    }
   ],
   "source": [
    "count = 0\n",
    "while (count < 9):\n",
    "    print('The count is:', count)\n",
    "    count = count + 1\n",
    "print(\"Count maximum is reached!\")"
   ]
  },
  {
   "attachments": {},
   "cell_type": "markdown",
   "metadata": {
    "slideshow": {
     "slide_type": "slide"
    }
   },
   "source": [
    "You can also create infinite loops"
   ]
  },
  {
   "cell_type": "code",
   "execution_count": 88,
   "metadata": {
    "slideshow": {
     "slide_type": "fragment"
    }
   },
   "outputs": [
    {
     "name": "stdout",
     "output_type": "stream",
     "text": [
      "You entered:  4\n",
      "You entered:  5\n",
      "You entered:  6\n"
     ]
    }
   ],
   "source": [
    "var = 1\n",
    "while var == 1 :  # This constructs an infinite loop\n",
    "    num = int(input(\"Enter a number  :\"))\n",
    "    print(\"You entered: \", num)\n",
    "\n",
    "print('Thanks')"
   ]
  },
  {
   "attachments": {},
   "cell_type": "markdown",
   "metadata": {
    "slideshow": {
     "slide_type": "slide"
    }
   },
   "source": [
    "Just like the 'if-statement', you can also combine 'while' with 'else'"
   ]
  },
  {
   "cell_type": "code",
   "execution_count": 3,
   "metadata": {
    "slideshow": {
     "slide_type": "fragment"
    }
   },
   "outputs": [
    {
     "name": "stdout",
     "output_type": "stream",
     "text": [
      "60  is  less than 12\n"
     ]
    }
   ],
   "source": [
    "count = 60\n",
    "while count < 1200000000000:\n",
    "    print(count, \" is  less than 12\")\n",
    "    count = count + 1\n",
    "    break\n",
    "else:\n",
    "    print(count, \" is not less than 12\")"
   ]
  },
  {
   "attachments": {},
   "cell_type": "markdown",
   "metadata": {
    "slideshow": {
     "slide_type": "slide"
    }
   },
   "source": [
    "Another statement you can use is break(). It terminates the enclosing loop. A premature termination of the current loop can be useful when some external condition is triggered requiring an exit from a loop."
   ]
  },
  {
   "cell_type": "code",
   "execution_count": 4,
   "metadata": {
    "slideshow": {
     "slide_type": "fragment"
    }
   },
   "outputs": [
    {
     "name": "stdout",
     "output_type": "stream",
     "text": [
      "Guess a number between 1 and 15:\n",
      "Your guess is too low\n",
      "Guess a number between 1 and 15:\n"
     ]
    }
   ],
   "source": [
    "import random\n",
    "number = random.randint(1, 15)\n",
    "\n",
    "number_of_guesses = 0\n",
    "\n",
    "while number_of_guesses < 5:\n",
    "    print('Guess a number between 1 and 15:')\n",
    "    guess = input()\n",
    "    guess = int(guess)\n",
    "\n",
    "    number_of_guesses = number_of_guesses + 1\n",
    "\n",
    "    if guess < number:\n",
    "        print('Your guess is too low')\n",
    "\n",
    "    if guess > number:\n",
    "        print('Your guess is too high')\n",
    "\n",
    "    if guess == number:\n",
    "        break\n",
    "\n",
    "if guess == number:\n",
    "    print('You guessed the number in ' , number_of_guesses,' tries!')\n",
    "\n",
    "else:\n",
    "    print('You did not guess the number. The number was ' , number)"
   ]
  },
  {
   "attachments": {},
   "cell_type": "markdown",
   "metadata": {
    "slideshow": {
     "slide_type": "slide"
    }
   },
   "source": [
    "Sometimes, you want to perform code on each item on a list. This can be accomplished with a while loop and counter variable."
   ]
  },
  {
   "cell_type": "code",
   "execution_count": 1,
   "metadata": {
    "slideshow": {
     "slide_type": "fragment"
    }
   },
   "outputs": [
    {
     "name": "stdout",
     "output_type": "stream",
     "text": [
      "one!\n",
      "two!\n",
      "three!\n",
      "four!\n",
      "five!\n"
     ]
    }
   ],
   "source": [
    "words = ['one', 'two', 'three', 'four','five' ]\n",
    "count = 0\n",
    "max_count = len(words) - 1\n",
    "\n",
    "while count <= max_count:\n",
    "    word = words[count]\n",
    "    print(word +'!')\n",
    "    count = count + 1"
   ]
  },
  {
   "attachments": {},
   "cell_type": "markdown",
   "metadata": {
    "slideshow": {
     "slide_type": "slide"
    }
   },
   "source": [
    "Using a while loop for iterating through list requires quite a lot of code. Python also provides the for-loop as shortcut that accomplishes the same task. Let´s do the same code as above with a for-loop "
   ]
  },
  {
   "cell_type": "code",
   "execution_count": 4,
   "metadata": {
    "slideshow": {
     "slide_type": "fragment"
    }
   },
   "outputs": [
    {
     "name": "stdout",
     "output_type": "stream",
     "text": [
      "0\n",
      "1\n",
      "2\n",
      "3\n",
      "4\n"
     ]
    }
   ],
   "source": [
    "words = ['one', 'two', 'three', 'four','five' ]\n",
    "for index, value in enumerate(words):\n",
    "    print(index)\n",
    "    # print(x + '!')"
   ]
  },
  {
   "attachments": {},
   "cell_type": "markdown",
   "metadata": {
    "slideshow": {
     "slide_type": "slide"
    }
   },
   "source": [
    "If you want to repeat some code a certain numbers of time, you can combine the for-loop with an range object."
   ]
  },
  {
   "cell_type": "code",
   "execution_count": 5,
   "metadata": {
    "slideshow": {
     "slide_type": "fragment"
    }
   },
   "outputs": [
    {
     "name": "stdout",
     "output_type": "stream",
     "text": [
      "Go !\n",
      "Go !\n",
      "Go !\n",
      "Go !\n",
      "Go !\n",
      "Go !\n",
      "Go !\n",
      "Go !\n",
      "Go !\n"
     ]
    }
   ],
   "source": [
    "for i in range(9):\n",
    "    print(\"Go !\")\n",
    "  "
   ]
  },
  {
   "attachments": {},
   "cell_type": "markdown",
   "metadata": {
    "slideshow": {
     "slide_type": "slide"
    }
   },
   "source": [
    "Now we can use our gained knowledge to program e.g. a simple calculator."
   ]
  },
  {
   "cell_type": "code",
   "execution_count": 7,
   "metadata": {
    "slideshow": {
     "slide_type": "fragment"
    }
   },
   "outputs": [
    {
     "name": "stdout",
     "output_type": "stream",
     "text": [
      "1.Add\n",
      "2.Subtract\n",
      "3.Multiply\n",
      "4.Divide\n",
      "5 + 6 = 11\n"
     ]
    }
   ],
   "source": [
    "print(\"1.Add\")\n",
    "print(\"2.Subtract\")\n",
    "print(\"3.Multiply\")\n",
    "print(\"4.Divide\")\n",
    "\n",
    "# Take input from the user \n",
    "choice = input(\"Enter choice(1/2/3/4):\")\n",
    "\n",
    "num1 = int(input(\"Enter first number: \"))\n",
    "num2 = int(input(\"Enter second number: \"))\n",
    "\n",
    "if choice == '1':\n",
    "    result = num1 + num2\n",
    "    print(\"{0} + {1} = {2}\".format(num1,num2,result))\n",
    "elif choice == '2':\n",
    "    result = num1 - num2\n",
    "    print(\"{0} - {1} = {2}\".format(num1,num2,result))\n",
    "          \n",
    "elif choice == '3':\n",
    "    result = num1*num2\n",
    "    print(\"{0} * {1} = {2}\".format(num1,num2,result))\n",
    "\n",
    "elif choice == '4':\n",
    "    result = num1/num2\n",
    "    print(\"{0} / {1} = {2}\".format(num1,num2,result))\n",
    "else:\n",
    "    print(\"Invalid input\") "
   ]
  },
  {
   "attachments": {},
   "cell_type": "markdown",
   "metadata": {
    "slideshow": {
     "slide_type": "slide"
    }
   },
   "source": [
    "#### Comprehensions\n",
    "\n",
    "\n",
    "Comprehensions are constructs that allow sequences to be built from other sequences. Let's assume we have a list with temperature values in Celsius and we want to convert them to Fahrenheit"
   ]
  },
  {
   "cell_type": "code",
   "execution_count": 8,
   "metadata": {
    "slideshow": {
     "slide_type": "fragment"
    }
   },
   "outputs": [],
   "source": [
    "T_in_celsius = [3, 12, 18, 9, 10, 20]"
   ]
  },
  {
   "attachments": {},
   "cell_type": "markdown",
   "metadata": {
    "slideshow": {
     "slide_type": "fragment"
    }
   },
   "source": [
    "We could write a for loop for this problem"
   ]
  },
  {
   "cell_type": "code",
   "execution_count": 31,
   "metadata": {
    "slideshow": {
     "slide_type": "fragment"
    }
   },
   "outputs": [
    {
     "data": {
      "text/plain": [
       "[37.4, 53.6, 64.4, 48.2, 50.0, 68.0]"
      ]
     },
     "execution_count": 31,
     "metadata": {},
     "output_type": "execute_result"
    }
   ],
   "source": [
    "fahrenheit = []\n",
    "for temp in T_in_celsius:\n",
    "    temp_fahr = (temp * 9 / 5) + 32\n",
    "    fahrenheit.append(temp_fahr)\n",
    "\n",
    "fahrenheit"
   ]
  },
  {
   "attachments": {},
   "cell_type": "markdown",
   "metadata": {
    "slideshow": {
     "slide_type": "slide"
    }
   },
   "source": [
    "Or, we could use a list comprehension:"
   ]
  },
  {
   "cell_type": "code",
   "execution_count": 10,
   "metadata": {
    "slideshow": {
     "slide_type": "fragment"
    }
   },
   "outputs": [
    {
     "data": {
      "text/plain": [
       "[37.4, 53.6, 64.4, 48.2, 50.0, 68.0]"
      ]
     },
     "execution_count": 10,
     "metadata": {},
     "output_type": "execute_result"
    }
   ],
   "source": [
    "fahrenheit = [(temp * 9 / 5) + 32 for temp in T_in_celsius]\n",
    "fahrenheit"
   ]
  },
  {
   "cell_type": "code",
   "execution_count": 60,
   "metadata": {},
   "outputs": [
    {
     "ename": "TypeError",
     "evalue": "'int' object is not iterable",
     "output_type": "error",
     "traceback": [
      "\u001b[1;31m---------------------------------------------------------------------------\u001b[0m",
      "\u001b[1;31mTypeError\u001b[0m                                 Traceback (most recent call last)",
      "Cell \u001b[1;32mIn[60], line 52\u001b[0m\n\u001b[0;32m     50\u001b[0m \u001b[39mfor\u001b[39;00m i \u001b[39min\u001b[39;00m l_1:\n\u001b[0;32m     51\u001b[0m     \u001b[39mif\u001b[39;00m i\u001b[39m%\u001b[39m\u001b[39m2\u001b[39m\u001b[39m==\u001b[39m\u001b[39m0\u001b[39m:\n\u001b[1;32m---> 52\u001b[0m         \u001b[39msum\u001b[39;49m(i)\n",
      "\u001b[1;31mTypeError\u001b[0m: 'int' object is not iterable"
     ]
    }
   ],
   "source": [
    "# using list comprehension\n",
    "# list_test = [\"a\",\"b\",\"c\",\"d\"]\n",
    "# # print(list_test)\n",
    "# list_test.append(\"e\")\n",
    "# print(list_test)\n",
    "\n",
    "# list_test.remove(\"a\")\n",
    "# print(list_test)\n",
    "\n",
    "# list_test_num = [1,2,3,4,5]\n",
    "# main_val = []\n",
    "# for i in list_test_num:\n",
    "#     val_1 = i+1\n",
    "#     main_val.append(val_1)\n",
    "# print(main_val)\n",
    "\n",
    "# extracting the even numbers\n",
    "# list_test_num = [1,2,3,4,5]\n",
    "# main_val = []\n",
    "\n",
    "# for i in list_test_num:\n",
    "#     if i%2==0:\n",
    "#         main_val.append(i)\n",
    "# print(main_val)\n",
    "\n",
    "\n",
    "# extracting the odd numbers\n",
    "# for j in list_test_num:\n",
    "#         if j%2 != 0:\n",
    "#             main_val.append(j)\n",
    "# print(main_val)\n",
    "\n",
    "\n",
    "# # add the even numbers in the list\n",
    "# list_test_num = [1,2,3,4,5]\n",
    "# main_val = []\n",
    "# total=0\n",
    "\n",
    "# for i in list_test_num:\n",
    "#     if i%2 == 0:\n",
    "#         add_val = total += i\n",
    "        \n",
    "#     else:\n",
    "#         main_val.append(i)\n",
    "# print(main_val)\n",
    "    \n",
    "l_1 = [1,2,3]\n",
    "sum(l_1)\n",
    "\n",
    "for i in l_1:\n",
    "        \n",
    "\n",
    "        \n",
    "\n",
    "\n",
    "\n",
    "\n",
    "\n",
    "\n",
    "\n",
    "\n",
    "\n",
    "    \n",
    "\n",
    "\n",
    "\n"
   ]
  },
  {
   "attachments": {},
   "cell_type": "markdown",
   "metadata": {
    "slideshow": {
     "slide_type": "slide"
    }
   },
   "source": [
    "We can also go one step further and also include a if statement"
   ]
  },
  {
   "cell_type": "code",
   "execution_count": 11,
   "metadata": {
    "slideshow": {
     "slide_type": "fragment"
    }
   },
   "outputs": [
    {
     "data": {
      "text/plain": [
       "[(3, 4, 5),\n",
       " (4, 3, 5),\n",
       " (5, 12, 13),\n",
       " (6, 8, 10),\n",
       " (7, 24, 25),\n",
       " (8, 6, 10),\n",
       " (8, 15, 17),\n",
       " (9, 12, 15),\n",
       " (10, 24, 26),\n",
       " (12, 5, 13),\n",
       " (12, 9, 15),\n",
       " (12, 16, 20),\n",
       " (15, 8, 17),\n",
       " (15, 20, 25),\n",
       " (16, 12, 20),\n",
       " (20, 15, 25),\n",
       " (20, 21, 29),\n",
       " (21, 20, 29),\n",
       " (24, 7, 25),\n",
       " (24, 10, 26)]"
      ]
     },
     "execution_count": 11,
     "metadata": {},
     "output_type": "execute_result"
    }
   ],
   "source": [
    "# Pythagorean triple\n",
    "# consists of three positive integers a, b, and c, such that a**2 + b**2 = c**2\n",
    "\n",
    "[(a,b,c) for a in range(1,30) for b in range(1,30) for c in range(1,30) if a**2 + b**2 == c**2]"
   ]
  },
  {
   "attachments": {},
   "cell_type": "markdown",
   "metadata": {
    "slideshow": {
     "slide_type": "slide"
    }
   },
   "source": [
    "You can even create nested comprehensions"
   ]
  },
  {
   "cell_type": "code",
   "execution_count": 12,
   "metadata": {
    "slideshow": {
     "slide_type": "fragment"
    }
   },
   "outputs": [
    {
     "data": {
      "text/plain": [
       "[[0, 1, 4, 9], [1, 2, 5, 10], [2, 3, 6, 11]]"
      ]
     },
     "execution_count": 12,
     "metadata": {},
     "output_type": "execute_result"
    }
   ],
   "source": [
    "matrix = [[j * j+i for j in range(4)] for i in range(3)]\n",
    "matrix"
   ]
  },
  {
   "attachments": {},
   "cell_type": "markdown",
   "metadata": {
    "slideshow": {
     "slide_type": "fragment"
    }
   },
   "source": [
    "Of course you can use comprehensions also for dictionaries"
   ]
  },
  {
   "cell_type": "code",
   "execution_count": 13,
   "metadata": {
    "slideshow": {
     "slide_type": "fragment"
    }
   },
   "outputs": [
    {
     "data": {
      "text/plain": [
       "{'apple': 5, 'mango': 5, 'banana': 6, 'cherry': 6}"
      ]
     },
     "execution_count": 13,
     "metadata": {},
     "output_type": "execute_result"
    }
   ],
   "source": [
    "fruits = ['apple', 'mango', 'banana','cherry']\n",
    "{f:len(f) for f in fruits}"
   ]
  },
  {
   "attachments": {},
   "cell_type": "markdown",
   "metadata": {
    "slideshow": {
     "slide_type": "slide"
    }
   },
   "source": [
    "### Functions\n",
    "\n",
    "In this chapter, we will learn how to write your own functions. A function   can be used as kind of a structuring element in programming languages to group a set of statements so you can reuse them. Decreasing code size by using functions make it more readable and easier to maintain. And of course it saves a lot of typing. In python a function call is a statement consisting of a function name followed by information between in parentheses. You have already used functions in the previous chapters"
   ]
  },
  {
   "attachments": {},
   "cell_type": "markdown",
   "metadata": {
    "slideshow": {
     "slide_type": "slide"
    }
   },
   "source": [
    "A function consists of several parts: \n",
    "- **Name**: What you call the function by\n",
    "- **Parameters**: You can provide functions with variables.\n",
    "- **Docstring**: A docstring allows you to write a little documentation were you explain how the function works \n",
    "- **Body**: This is were the magic happens, as here is the place for the code itself\n",
    "- **Return values**: You usually create functions to do something that create a result. "
   ]
  },
  {
   "attachments": {},
   "cell_type": "markdown",
   "metadata": {
    "slideshow": {
     "slide_type": "fragment"
    }
   },
   "source": [
    "<img src=\"images/function.png\" width=600 />"
   ]
  },
  {
   "attachments": {},
   "cell_type": "markdown",
   "metadata": {
    "slideshow": {
     "slide_type": "slide"
    }
   },
   "source": [
    "Let´s start with a very simple function"
   ]
  },
  {
   "cell_type": "code",
   "execution_count": 14,
   "metadata": {
    "slideshow": {
     "slide_type": "fragment"
    }
   },
   "outputs": [
    {
     "name": "stdout",
     "output_type": "stream",
     "text": [
      "I love python!\n"
     ]
    }
   ],
   "source": [
    "def my_function():\n",
    "    print(\"I love python!\")\n",
    "\n",
    "my_function()"
   ]
  },
  {
   "attachments": {},
   "cell_type": "markdown",
   "metadata": {
    "slideshow": {
     "slide_type": "slide"
    }
   },
   "source": [
    "You can also create functions which receive arguments"
   ]
  },
  {
   "cell_type": "code",
   "execution_count": 15,
   "metadata": {
    "slideshow": {
     "slide_type": "fragment"
    }
   },
   "outputs": [
    {
     "ename": "NameError",
     "evalue": "name 'function1' is not defined",
     "output_type": "error",
     "traceback": [
      "\u001b[1;31m---------------------------------------------------------------------------\u001b[0m",
      "\u001b[1;31mNameError\u001b[0m                                 Traceback (most recent call last)",
      "Cell \u001b[1;32mIn[15], line 1\u001b[0m\n\u001b[1;32m----> 1\u001b[0m x \u001b[39m=\u001b[39m {\u001b[39m\"\u001b[39m\u001b[39mwidth\u001b[39m\u001b[39m\"\u001b[39m: \u001b[39m4\u001b[39m, \u001b[39m\"\u001b[39m\u001b[39mheight\u001b[39m\u001b[39m\"\u001b[39m:\u001b[39m6\u001b[39m, \u001b[39m\"\u001b[39m\u001b[39mfunc\u001b[39m\u001b[39m\"\u001b[39m:function1}\n\u001b[0;32m      2\u001b[0m \u001b[39mdef\u001b[39;00m \u001b[39mfunction1\u001b[39m(value):\n\u001b[0;32m      3\u001b[0m     \u001b[39mreturn\u001b[39;00m value\u001b[39m*\u001b[39m\u001b[39m*\u001b[39m\u001b[39m2\u001b[39m\n",
      "\u001b[1;31mNameError\u001b[0m: name 'function1' is not defined"
     ]
    }
   ],
   "source": [
    "x = {\"width\": 4, \"height\":6, \"func\":function1}\n",
    "def function1(value):\n",
    "    return value**2\n",
    "\n",
    "def area(width, height, func):\n",
    "    print(\"Area: {0}\".format(func(width*height)))\n",
    "\n",
    "x = area(**x)"
   ]
  },
  {
   "attachments": {},
   "cell_type": "markdown",
   "metadata": {
    "slideshow": {
     "slide_type": "slide"
    }
   },
   "source": [
    "If the function should return a result (not only print) you can use the 'return' statement. The return statement exits the function and can contain a expression which gets evaluated or a value is returned. If there is no expression or value the function returns the 'None' object "
   ]
  },
  {
   "cell_type": "code",
   "execution_count": 16,
   "metadata": {
    "slideshow": {
     "slide_type": "fragment"
    }
   },
   "outputs": [
    {
     "data": {
      "text/plain": [
       "95.0"
      ]
     },
     "execution_count": 16,
     "metadata": {},
     "output_type": "execute_result"
    }
   ],
   "source": [
    "def fahrenheit(T_in_celsius):\n",
    "    return (T_in_celsius * 9 / 5) + 32\n",
    "\n",
    "x = fahrenheit(35) \n",
    "x"
   ]
  },
  {
   "attachments": {},
   "cell_type": "markdown",
   "metadata": {
    "slideshow": {
     "slide_type": "slide"
    }
   },
   "source": [
    "Now we can rewrite our simple calculator. But this time we define our functions in front."
   ]
  },
  {
   "cell_type": "code",
   "execution_count": 17,
   "metadata": {
    "slideshow": {
     "slide_type": "fragment"
    }
   },
   "outputs": [
    {
     "name": "stdout",
     "output_type": "stream",
     "text": [
      "1.Add\n",
      "2.Subtract\n",
      "3.Multiply\n",
      "4.Divide\n"
     ]
    },
    {
     "ename": "KeyboardInterrupt",
     "evalue": "Interrupted by user",
     "output_type": "error",
     "traceback": [
      "\u001b[1;31m---------------------------------------------------------------------------\u001b[0m",
      "\u001b[1;31mKeyboardInterrupt\u001b[0m                         Traceback (most recent call last)",
      "Cell \u001b[1;32mIn[17], line 19\u001b[0m\n\u001b[0;32m     16\u001b[0m \u001b[39mprint\u001b[39m(\u001b[39m\"\u001b[39m\u001b[39m4.Divide\u001b[39m\u001b[39m\"\u001b[39m)\n\u001b[0;32m     18\u001b[0m \u001b[39m# Take input from the user \u001b[39;00m\n\u001b[1;32m---> 19\u001b[0m choice \u001b[39m=\u001b[39m \u001b[39meval\u001b[39m(\u001b[39minput\u001b[39;49m(\u001b[39m\"\u001b[39;49m\u001b[39mEnter choice(1/2/3/4):\u001b[39;49m\u001b[39m\"\u001b[39;49m))\n\u001b[0;32m     21\u001b[0m num1 \u001b[39m=\u001b[39m \u001b[39meval\u001b[39m(\u001b[39minput\u001b[39m(\u001b[39m\"\u001b[39m\u001b[39mEnter first number: \u001b[39m\u001b[39m\"\u001b[39m))\n\u001b[0;32m     22\u001b[0m num2 \u001b[39m=\u001b[39m \u001b[39meval\u001b[39m(\u001b[39minput\u001b[39m(\u001b[39m\"\u001b[39m\u001b[39mEnter second number: \u001b[39m\u001b[39m\"\u001b[39m))\n",
      "File \u001b[1;32m~\\AppData\\Local\\Packages\\PythonSoftwareFoundation.Python.3.11_qbz5n2kfra8p0\\LocalCache\\local-packages\\Python311\\site-packages\\ipykernel\\kernelbase.py:1191\u001b[0m, in \u001b[0;36mKernel.raw_input\u001b[1;34m(self, prompt)\u001b[0m\n\u001b[0;32m   1189\u001b[0m     msg \u001b[39m=\u001b[39m \u001b[39m\"\u001b[39m\u001b[39mraw_input was called, but this frontend does not support input requests.\u001b[39m\u001b[39m\"\u001b[39m\n\u001b[0;32m   1190\u001b[0m     \u001b[39mraise\u001b[39;00m StdinNotImplementedError(msg)\n\u001b[1;32m-> 1191\u001b[0m \u001b[39mreturn\u001b[39;00m \u001b[39mself\u001b[39;49m\u001b[39m.\u001b[39;49m_input_request(\n\u001b[0;32m   1192\u001b[0m     \u001b[39mstr\u001b[39;49m(prompt),\n\u001b[0;32m   1193\u001b[0m     \u001b[39mself\u001b[39;49m\u001b[39m.\u001b[39;49m_parent_ident[\u001b[39m\"\u001b[39;49m\u001b[39mshell\u001b[39;49m\u001b[39m\"\u001b[39;49m],\n\u001b[0;32m   1194\u001b[0m     \u001b[39mself\u001b[39;49m\u001b[39m.\u001b[39;49mget_parent(\u001b[39m\"\u001b[39;49m\u001b[39mshell\u001b[39;49m\u001b[39m\"\u001b[39;49m),\n\u001b[0;32m   1195\u001b[0m     password\u001b[39m=\u001b[39;49m\u001b[39mFalse\u001b[39;49;00m,\n\u001b[0;32m   1196\u001b[0m )\n",
      "File \u001b[1;32m~\\AppData\\Local\\Packages\\PythonSoftwareFoundation.Python.3.11_qbz5n2kfra8p0\\LocalCache\\local-packages\\Python311\\site-packages\\ipykernel\\kernelbase.py:1234\u001b[0m, in \u001b[0;36mKernel._input_request\u001b[1;34m(self, prompt, ident, parent, password)\u001b[0m\n\u001b[0;32m   1231\u001b[0m \u001b[39mexcept\u001b[39;00m \u001b[39mKeyboardInterrupt\u001b[39;00m:\n\u001b[0;32m   1232\u001b[0m     \u001b[39m# re-raise KeyboardInterrupt, to truncate traceback\u001b[39;00m\n\u001b[0;32m   1233\u001b[0m     msg \u001b[39m=\u001b[39m \u001b[39m\"\u001b[39m\u001b[39mInterrupted by user\u001b[39m\u001b[39m\"\u001b[39m\n\u001b[1;32m-> 1234\u001b[0m     \u001b[39mraise\u001b[39;00m \u001b[39mKeyboardInterrupt\u001b[39;00m(msg) \u001b[39mfrom\u001b[39;00m \u001b[39mNone\u001b[39;00m\n\u001b[0;32m   1235\u001b[0m \u001b[39mexcept\u001b[39;00m \u001b[39mException\u001b[39;00m:\n\u001b[0;32m   1236\u001b[0m     \u001b[39mself\u001b[39m\u001b[39m.\u001b[39mlog\u001b[39m.\u001b[39mwarning(\u001b[39m\"\u001b[39m\u001b[39mInvalid Message:\u001b[39m\u001b[39m\"\u001b[39m, exc_info\u001b[39m=\u001b[39m\u001b[39mTrue\u001b[39;00m)\n",
      "\u001b[1;31mKeyboardInterrupt\u001b[0m: Interrupted by user"
     ]
    }
   ],
   "source": [
    "def add(x,y):\n",
    "    return x+y\n",
    "\n",
    "def diff(x,y):\n",
    "    return x-y\n",
    "\n",
    "def multiply(x,y):\n",
    "    return x*y\n",
    "\n",
    "def divide(x,y):\n",
    "    return x/y\n",
    "\n",
    "print(\"1.Add\")\n",
    "print(\"2.Subtract\")\n",
    "print(\"3.Multiply\")\n",
    "print(\"4.Divide\")\n",
    "\n",
    "# Take input from the user \n",
    "choice = eval(input(\"Enter choice(1/2/3/4):\"))\n",
    "\n",
    "num1 = eval(input(\"Enter first number: \"))\n",
    "num2 = eval(input(\"Enter second number: \"))\n",
    "\n",
    "if choice == 1:\n",
    "    result = add(num1,num2)\n",
    "    print(\"{0} + {1} = {2}\".format(num1,num2,result))\n",
    "\n",
    "elif choice == 2:\n",
    "    result = diff(num1,num2)\n",
    "    print(\"{0} - {1} = {2}\".format(num1,num2,result))\n",
    "          \n",
    "elif choice == 3:\n",
    "    result = multiply(num1,num2)\n",
    "    print(\"{0} * {1} = {2}\".format(num1,num2,result))\n",
    "\n",
    "elif choice == 4:\n",
    "    result = divide(num1,num2)\n",
    "    print(\"{0} / {1} = {2}\".format(num1,num2,result))\n",
    "else:\n",
    "    print(\"Invalid input\") "
   ]
  },
  {
   "attachments": {},
   "cell_type": "markdown",
   "metadata": {
    "slideshow": {
     "slide_type": "slide"
    }
   },
   "source": [
    "Sometimes you need to define a function that may accept an argument and shall behave differently whether or not the argument is present. Therefor you can also define default values for arguments. "
   ]
  },
  {
   "cell_type": "code",
   "execution_count": 18,
   "metadata": {
    "slideshow": {
     "slide_type": "fragment"
    }
   },
   "outputs": [
    {
     "name": "stdout",
     "output_type": "stream",
     "text": [
      "Hello Bob, nice to see you!\n",
      "Hello Dave, How do you do?\n"
     ]
    }
   ],
   "source": [
    "def greeting(name, message= \"nice to see you!\"):\n",
    "    print(\"Hello \" + name + ', ' + message) \n",
    "\n",
    "greeting(\"Bob\")\n",
    "greeting(\"Dave\",\"How do you do?\")"
   ]
  },
  {
   "attachments": {},
   "cell_type": "markdown",
   "metadata": {
    "slideshow": {
     "slide_type": "slide"
    }
   },
   "source": [
    "In Python you can also create small anonymous functions with the lambda keyword. Lambda functions can be used wherever function objects are required. While normal functions are defined using the def keyword in Python, anonymous functions are defined using the lambda keyword."
   ]
  },
  {
   "cell_type": "code",
   "execution_count": 19,
   "metadata": {
    "slideshow": {
     "slide_type": "fragment"
    }
   },
   "outputs": [
    {
     "name": "stdout",
     "output_type": "stream",
     "text": [
      "[4, 6, 8, 12]\n"
     ]
    }
   ],
   "source": [
    "# Program to filter out only the even items from a list\n",
    "my_list = [1, 5, 4, 6, 8, 11, 3, 12]\n",
    "\n",
    "new_list = list(filter(lambda x: (x%2 == 0) , my_list))\n",
    "\n",
    "print(new_list)"
   ]
  },
  {
   "cell_type": "code",
   "execution_count": 30,
   "metadata": {},
   "outputs": [
    {
     "name": "stdout",
     "output_type": "stream",
     "text": [
      "[1, 5]\n"
     ]
    },
    {
     "name": "stdout",
     "output_type": "stream",
     "text": [
      "\u001b[1;31mInit signature:\u001b[0m \u001b[0mfilter\u001b[0m\u001b[1;33m(\u001b[0m\u001b[0mself\u001b[0m\u001b[1;33m,\u001b[0m \u001b[1;33m/\u001b[0m\u001b[1;33m,\u001b[0m \u001b[1;33m*\u001b[0m\u001b[0margs\u001b[0m\u001b[1;33m,\u001b[0m \u001b[1;33m**\u001b[0m\u001b[0mkwargs\u001b[0m\u001b[1;33m)\u001b[0m\u001b[1;33m\u001b[0m\u001b[1;33m\u001b[0m\u001b[0m\n",
      "\u001b[1;31mDocstring:\u001b[0m     \n",
      "filter(function or None, iterable) --> filter object\n",
      "\n",
      "Return an iterator yielding those items of iterable for which function(item)\n",
      "is true. If function is None, return the items that are true.\n",
      "\u001b[1;31mType:\u001b[0m           type\n",
      "\u001b[1;31mSubclasses:\u001b[0m     "
     ]
    }
   ],
   "source": [
    "# Program to filter out odd numbers\n",
    "my_list_new = [1, 5]\n",
    "new_list_test = list(filter(lambda x: (x*2), my_list_new))\n",
    "print(new_list_test)\n",
    "\n",
    "?filter"
   ]
  },
  {
   "attachments": {},
   "cell_type": "markdown",
   "metadata": {},
   "source": [
    "When the first statement in the body of a Python function is a string literal, it’s known as the function’s docstring. A docstring is used to supply documentation for a function. "
   ]
  },
  {
   "cell_type": "code",
   "execution_count": 20,
   "metadata": {},
   "outputs": [
    {
     "data": {
      "text/plain": [
       "'101'"
      ]
     },
     "execution_count": 20,
     "metadata": {},
     "output_type": "execute_result"
    }
   ],
   "source": [
    "def add_binary(a, b):\n",
    "    '''\n",
    "    Returns the sum of two decimal numbers in binary digits.\n",
    "\n",
    "            Parameters:\n",
    "                    a (int): A decimal integer\n",
    "                    b (int): Another decimal integer\n",
    "\n",
    "            Returns:\n",
    "                    binary_sum (str): Binary string of the sum of a and b\n",
    "    '''\n",
    "    binary_sum = bin(a+b)[2:]\n",
    "    return binary_sum\n",
    "\n",
    "b = add_binary(2,3)\n",
    "b"
   ]
  },
  {
   "cell_type": "code",
   "execution_count": 21,
   "metadata": {},
   "outputs": [
    {
     "name": "stdout",
     "output_type": "stream",
     "text": [
      "Help on function add_binary in module __main__:\n",
      "\n",
      "add_binary(a, b)\n",
      "    Returns the sum of two decimal numbers in binary digits.\n",
      "    \n",
      "            Parameters:\n",
      "                    a (int): A decimal integer\n",
      "                    b (int): Another decimal integer\n",
      "    \n",
      "            Returns:\n",
      "                    binary_sum (str): Binary string of the sum of a and b\n",
      "\n"
     ]
    }
   ],
   "source": [
    "help(add_binary)"
   ]
  },
  {
   "attachments": {},
   "cell_type": "markdown",
   "metadata": {},
   "source": [
    "As of version 3.0, Python provides an additional feature for documenting a function called a function annotation. Annotations provide a way to attach metadata to a function’s parameters and return value."
   ]
  },
  {
   "cell_type": "code",
   "execution_count": 22,
   "metadata": {},
   "outputs": [
    {
     "data": {
      "text/plain": [
       "'101'"
      ]
     },
     "execution_count": 22,
     "metadata": {},
     "output_type": "execute_result"
    }
   ],
   "source": [
    "def add_binary(a: int, b: int) -> str:\n",
    "    '''\n",
    "    Returns the sum of two decimal numbers in binary digits.\n",
    "\n",
    "            Parameters:\n",
    "                    a (int): A decimal integer\n",
    "                    b (int): Another decimal integer\n",
    "\n",
    "            Returns:\n",
    "                    binary_sum (str): Binary string of the sum of a and b\n",
    "    '''\n",
    "    binary_sum = bin(a+b)[2:]\n",
    "    return binary_sum\n",
    "\n",
    "add_binary(2,3)"
   ]
  },
  {
   "attachments": {},
   "cell_type": "markdown",
   "metadata": {
    "slideshow": {
     "slide_type": "slide"
    }
   },
   "source": [
    "# Literature\n",
    "\n",
    "For this script I mainly used following sources:\n",
    "<br>[1] https://docs.python.org/3/\n",
    "<br>[2] https://www.tutorialspoint.com/python/python_lists.htm\n",
    "<br>[3] https://www.datacamp.com\n",
    "<br>[4] https://anh.cs.luc.edu/python/hands-on/3.1/handsonHtml/index.html\n",
    "<br>[5] Python - kurz und gut (2014) Mark Lutz\n",
    "<br>[6] https://realpython.com/"
   ]
  }
 ],
 "metadata": {
  "celltoolbar": "Slideshow",
  "kernelspec": {
   "display_name": "Python 3 (ipykernel)",
   "language": "python",
   "name": "python3"
  },
  "language_info": {
   "codemirror_mode": {
    "name": "ipython",
    "version": 3
   },
   "file_extension": ".py",
   "mimetype": "text/x-python",
   "name": "python",
   "nbconvert_exporter": "python",
   "pygments_lexer": "ipython3",
   "version": "3.11.3"
  },
  "livereveal": {
   "scroll": true
  },
  "rise": {
   "backimage": "images/header.png",
   "footer": "<h3>Spatial Python</h3>",
   "theme": "simple"
  },
  "toc": {
   "base_numbering": 1,
   "nav_menu": {},
   "number_sections": true,
   "sideBar": true,
   "skip_h1_title": false,
   "title_cell": "Table of Contents",
   "title_sidebar": "Contents",
   "toc_cell": false,
   "toc_position": {
    "height": "calc(100% - 180px)",
    "left": "10px",
    "top": "150px",
    "width": "165px"
   },
   "toc_section_display": true,
   "toc_window_display": true
  }
 },
 "nbformat": 4,
 "nbformat_minor": 4
}
